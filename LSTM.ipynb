{
 "cells": [
  {
   "cell_type": "code",
   "execution_count": 1,
   "metadata": {},
   "outputs": [],
   "source": [
    "import numpy as np\n",
    "import matplotlib.pyplot as plt\n",
    "import pandas as pd\n",
    "import datetime as dt\n",
    "from tensorflow import keras\n",
    "from sklearn.preprocessing import MinMaxScaler\n",
    "from tensorflow.keras.layers import Dense, Dropout, LSTM"
   ]
  },
  {
   "cell_type": "code",
   "execution_count": 2,
   "metadata": {},
   "outputs": [],
   "source": [
    "#pip install tensorflow --ignore-installed --user"
   ]
  },
  {
   "cell_type": "code",
   "execution_count": 115,
   "metadata": {},
   "outputs": [
    {
     "data": {
      "text/html": [
       "<div>\n",
       "<style scoped>\n",
       "    .dataframe tbody tr th:only-of-type {\n",
       "        vertical-align: middle;\n",
       "    }\n",
       "\n",
       "    .dataframe tbody tr th {\n",
       "        vertical-align: top;\n",
       "    }\n",
       "\n",
       "    .dataframe thead th {\n",
       "        text-align: right;\n",
       "    }\n",
       "</style>\n",
       "<table border=\"1\" class=\"dataframe\">\n",
       "  <thead>\n",
       "    <tr style=\"text-align: right;\">\n",
       "      <th></th>\n",
       "      <th>index</th>\n",
       "      <th>Date</th>\n",
       "      <th>US_Dollar</th>\n",
       "      <th>Pound_Sterling</th>\n",
       "      <th>Euro</th>\n",
       "      <th>Japanese_Yen</th>\n",
       "    </tr>\n",
       "  </thead>\n",
       "  <tbody>\n",
       "    <tr>\n",
       "      <th>0</th>\n",
       "      <td>5707</td>\n",
       "      <td>04-01-1999</td>\n",
       "      <td>42.51</td>\n",
       "      <td>70.7814</td>\n",
       "      <td>50.4872</td>\n",
       "      <td>37.4703</td>\n",
       "    </tr>\n",
       "    <tr>\n",
       "      <th>1</th>\n",
       "      <td>5706</td>\n",
       "      <td>05-01-1999</td>\n",
       "      <td>42.56</td>\n",
       "      <td>70.4473</td>\n",
       "      <td>50.2412</td>\n",
       "      <td>38.2080</td>\n",
       "    </tr>\n",
       "    <tr>\n",
       "      <th>2</th>\n",
       "      <td>5705</td>\n",
       "      <td>06-01-1999</td>\n",
       "      <td>42.51</td>\n",
       "      <td>70.3235</td>\n",
       "      <td>49.9276</td>\n",
       "      <td>37.7229</td>\n",
       "    </tr>\n",
       "    <tr>\n",
       "      <th>3</th>\n",
       "      <td>5704</td>\n",
       "      <td>07-01-1999</td>\n",
       "      <td>42.52</td>\n",
       "      <td>70.3087</td>\n",
       "      <td>49.5148</td>\n",
       "      <td>38.0322</td>\n",
       "    </tr>\n",
       "    <tr>\n",
       "      <th>4</th>\n",
       "      <td>5703</td>\n",
       "      <td>08-01-1999</td>\n",
       "      <td>42.52</td>\n",
       "      <td>70.0427</td>\n",
       "      <td>49.7265</td>\n",
       "      <td>38.0799</td>\n",
       "    </tr>\n",
       "  </tbody>\n",
       "</table>\n",
       "</div>"
      ],
      "text/plain": [
       "   index        Date  US_Dollar  Pound_Sterling     Euro  Japanese_Yen\n",
       "0   5707  04-01-1999      42.51         70.7814  50.4872       37.4703\n",
       "1   5706  05-01-1999      42.56         70.4473  50.2412       38.2080\n",
       "2   5705  06-01-1999      42.51         70.3235  49.9276       37.7229\n",
       "3   5704  07-01-1999      42.52         70.3087  49.5148       38.0322\n",
       "4   5703  08-01-1999      42.52         70.0427  49.7265       38.0799"
      ]
     },
     "execution_count": 115,
     "metadata": {},
     "output_type": "execute_result"
    }
   ],
   "source": [
    "df=pd.read_csv(\"Data.csv\")\n",
    "df.head()"
   ]
  },
  {
   "cell_type": "code",
   "execution_count": 116,
   "metadata": {},
   "outputs": [],
   "source": [
    "df[\"Date\"] = pd.to_datetime(df[\"Date\"])"
   ]
  },
  {
   "cell_type": "code",
   "execution_count": 117,
   "metadata": {},
   "outputs": [
    {
     "data": {
      "text/plain": [
       "index             0\n",
       "Date              0\n",
       "US_Dollar         0\n",
       "Pound_Sterling    0\n",
       "Euro              0\n",
       "Japanese_Yen      0\n",
       "dtype: int64"
      ]
     },
     "execution_count": 117,
     "metadata": {},
     "output_type": "execute_result"
    }
   ],
   "source": [
    "df.isnull().sum()"
   ]
  },
  {
   "cell_type": "code",
   "execution_count": 118,
   "metadata": {},
   "outputs": [
    {
     "data": {
      "text/html": [
       "<div>\n",
       "<style scoped>\n",
       "    .dataframe tbody tr th:only-of-type {\n",
       "        vertical-align: middle;\n",
       "    }\n",
       "\n",
       "    .dataframe tbody tr th {\n",
       "        vertical-align: top;\n",
       "    }\n",
       "\n",
       "    .dataframe thead th {\n",
       "        text-align: right;\n",
       "    }\n",
       "</style>\n",
       "<table border=\"1\" class=\"dataframe\">\n",
       "  <thead>\n",
       "    <tr style=\"text-align: right;\">\n",
       "      <th></th>\n",
       "      <th>index</th>\n",
       "      <th>Date</th>\n",
       "      <th>US_Dollar</th>\n",
       "      <th>Pound_Sterling</th>\n",
       "      <th>Euro</th>\n",
       "      <th>Japanese_Yen</th>\n",
       "    </tr>\n",
       "  </thead>\n",
       "  <tbody>\n",
       "    <tr>\n",
       "      <th>0</th>\n",
       "      <td>5707</td>\n",
       "      <td>1999-04-01</td>\n",
       "      <td>42.51</td>\n",
       "      <td>70.7814</td>\n",
       "      <td>50.4872</td>\n",
       "      <td>37.4703</td>\n",
       "    </tr>\n",
       "    <tr>\n",
       "      <th>1</th>\n",
       "      <td>5706</td>\n",
       "      <td>1999-05-01</td>\n",
       "      <td>42.56</td>\n",
       "      <td>70.4473</td>\n",
       "      <td>50.2412</td>\n",
       "      <td>38.2080</td>\n",
       "    </tr>\n",
       "    <tr>\n",
       "      <th>2</th>\n",
       "      <td>5705</td>\n",
       "      <td>1999-06-01</td>\n",
       "      <td>42.51</td>\n",
       "      <td>70.3235</td>\n",
       "      <td>49.9276</td>\n",
       "      <td>37.7229</td>\n",
       "    </tr>\n",
       "    <tr>\n",
       "      <th>3</th>\n",
       "      <td>5704</td>\n",
       "      <td>1999-07-01</td>\n",
       "      <td>42.52</td>\n",
       "      <td>70.3087</td>\n",
       "      <td>49.5148</td>\n",
       "      <td>38.0322</td>\n",
       "    </tr>\n",
       "    <tr>\n",
       "      <th>4</th>\n",
       "      <td>5703</td>\n",
       "      <td>1999-08-01</td>\n",
       "      <td>42.52</td>\n",
       "      <td>70.0427</td>\n",
       "      <td>49.7265</td>\n",
       "      <td>38.0799</td>\n",
       "    </tr>\n",
       "  </tbody>\n",
       "</table>\n",
       "</div>"
      ],
      "text/plain": [
       "   index       Date  US_Dollar  Pound_Sterling     Euro  Japanese_Yen\n",
       "0   5707 1999-04-01      42.51         70.7814  50.4872       37.4703\n",
       "1   5706 1999-05-01      42.56         70.4473  50.2412       38.2080\n",
       "2   5705 1999-06-01      42.51         70.3235  49.9276       37.7229\n",
       "3   5704 1999-07-01      42.52         70.3087  49.5148       38.0322\n",
       "4   5703 1999-08-01      42.52         70.0427  49.7265       38.0799"
      ]
     },
     "execution_count": 118,
     "metadata": {},
     "output_type": "execute_result"
    }
   ],
   "source": [
    "df1 = df.dropna()\n",
    "df1.head()"
   ]
  },
  {
   "cell_type": "code",
   "execution_count": 119,
   "metadata": {},
   "outputs": [
    {
     "data": {
      "text/plain": [
       "index             0\n",
       "Date              0\n",
       "US_Dollar         0\n",
       "Pound_Sterling    0\n",
       "Euro              0\n",
       "Japanese_Yen      0\n",
       "dtype: int64"
      ]
     },
     "execution_count": 119,
     "metadata": {},
     "output_type": "execute_result"
    }
   ],
   "source": [
    "df1.isnull().sum()"
   ]
  },
  {
   "cell_type": "code",
   "execution_count": 120,
   "metadata": {},
   "outputs": [
    {
     "name": "stdout",
     "output_type": "stream",
     "text": [
      "<class 'pandas.core.frame.DataFrame'>\n",
      "Int64Index: 5707 entries, 0 to 5706\n",
      "Data columns (total 6 columns):\n",
      " #   Column          Non-Null Count  Dtype         \n",
      "---  ------          --------------  -----         \n",
      " 0   index           5707 non-null   int64         \n",
      " 1   Date            5707 non-null   datetime64[ns]\n",
      " 2   US_Dollar       5707 non-null   float64       \n",
      " 3   Pound_Sterling  5707 non-null   float64       \n",
      " 4   Euro            5707 non-null   float64       \n",
      " 5   Japanese_Yen    5707 non-null   float64       \n",
      "dtypes: datetime64[ns](1), float64(4), int64(1)\n",
      "memory usage: 312.1 KB\n"
     ]
    }
   ],
   "source": [
    "df1.info()"
   ]
  },
  {
   "cell_type": "code",
   "execution_count": 121,
   "metadata": {},
   "outputs": [
    {
     "data": {
      "text/html": [
       "<div>\n",
       "<style scoped>\n",
       "    .dataframe tbody tr th:only-of-type {\n",
       "        vertical-align: middle;\n",
       "    }\n",
       "\n",
       "    .dataframe tbody tr th {\n",
       "        vertical-align: top;\n",
       "    }\n",
       "\n",
       "    .dataframe thead th {\n",
       "        text-align: right;\n",
       "    }\n",
       "</style>\n",
       "<table border=\"1\" class=\"dataframe\">\n",
       "  <thead>\n",
       "    <tr style=\"text-align: right;\">\n",
       "      <th></th>\n",
       "      <th>level_0</th>\n",
       "      <th>index</th>\n",
       "      <th>Date</th>\n",
       "      <th>US_Dollar</th>\n",
       "      <th>Pound_Sterling</th>\n",
       "      <th>Euro</th>\n",
       "      <th>Japanese_Yen</th>\n",
       "    </tr>\n",
       "  </thead>\n",
       "  <tbody>\n",
       "    <tr>\n",
       "      <th>0</th>\n",
       "      <td>5706</td>\n",
       "      <td>0</td>\n",
       "      <td>2022-07-29</td>\n",
       "      <td>79.42</td>\n",
       "      <td>96.8986</td>\n",
       "      <td>81.1675</td>\n",
       "      <td>59.7300</td>\n",
       "    </tr>\n",
       "    <tr>\n",
       "      <th>1</th>\n",
       "      <td>5705</td>\n",
       "      <td>1</td>\n",
       "      <td>2022-07-28</td>\n",
       "      <td>79.74</td>\n",
       "      <td>97.0642</td>\n",
       "      <td>81.5435</td>\n",
       "      <td>58.9300</td>\n",
       "    </tr>\n",
       "    <tr>\n",
       "      <th>2</th>\n",
       "      <td>5704</td>\n",
       "      <td>2</td>\n",
       "      <td>2022-07-27</td>\n",
       "      <td>79.90</td>\n",
       "      <td>96.2633</td>\n",
       "      <td>80.9790</td>\n",
       "      <td>58.3600</td>\n",
       "    </tr>\n",
       "    <tr>\n",
       "      <th>3</th>\n",
       "      <td>5703</td>\n",
       "      <td>3</td>\n",
       "      <td>2022-07-26</td>\n",
       "      <td>79.79</td>\n",
       "      <td>96.2182</td>\n",
       "      <td>81.5636</td>\n",
       "      <td>58.3700</td>\n",
       "    </tr>\n",
       "    <tr>\n",
       "      <th>4</th>\n",
       "      <td>5702</td>\n",
       "      <td>4</td>\n",
       "      <td>2022-07-25</td>\n",
       "      <td>79.85</td>\n",
       "      <td>95.5769</td>\n",
       "      <td>81.4458</td>\n",
       "      <td>58.5400</td>\n",
       "    </tr>\n",
       "    <tr>\n",
       "      <th>...</th>\n",
       "      <td>...</td>\n",
       "      <td>...</td>\n",
       "      <td>...</td>\n",
       "      <td>...</td>\n",
       "      <td>...</td>\n",
       "      <td>...</td>\n",
       "      <td>...</td>\n",
       "    </tr>\n",
       "    <tr>\n",
       "      <th>5702</th>\n",
       "      <td>4</td>\n",
       "      <td>5703</td>\n",
       "      <td>1999-08-01</td>\n",
       "      <td>42.52</td>\n",
       "      <td>70.0427</td>\n",
       "      <td>49.7265</td>\n",
       "      <td>38.0799</td>\n",
       "    </tr>\n",
       "    <tr>\n",
       "      <th>5703</th>\n",
       "      <td>3</td>\n",
       "      <td>5704</td>\n",
       "      <td>1999-07-01</td>\n",
       "      <td>42.52</td>\n",
       "      <td>70.3087</td>\n",
       "      <td>49.5148</td>\n",
       "      <td>38.0322</td>\n",
       "    </tr>\n",
       "    <tr>\n",
       "      <th>5704</th>\n",
       "      <td>2</td>\n",
       "      <td>5705</td>\n",
       "      <td>1999-06-01</td>\n",
       "      <td>42.51</td>\n",
       "      <td>70.3235</td>\n",
       "      <td>49.9276</td>\n",
       "      <td>37.7229</td>\n",
       "    </tr>\n",
       "    <tr>\n",
       "      <th>5705</th>\n",
       "      <td>1</td>\n",
       "      <td>5706</td>\n",
       "      <td>1999-05-01</td>\n",
       "      <td>42.56</td>\n",
       "      <td>70.4473</td>\n",
       "      <td>50.2412</td>\n",
       "      <td>38.2080</td>\n",
       "    </tr>\n",
       "    <tr>\n",
       "      <th>5706</th>\n",
       "      <td>0</td>\n",
       "      <td>5707</td>\n",
       "      <td>1999-04-01</td>\n",
       "      <td>42.51</td>\n",
       "      <td>70.7814</td>\n",
       "      <td>50.4872</td>\n",
       "      <td>37.4703</td>\n",
       "    </tr>\n",
       "  </tbody>\n",
       "</table>\n",
       "<p>5707 rows × 7 columns</p>\n",
       "</div>"
      ],
      "text/plain": [
       "      level_0  index       Date  US_Dollar  Pound_Sterling     Euro  \\\n",
       "0        5706      0 2022-07-29      79.42         96.8986  81.1675   \n",
       "1        5705      1 2022-07-28      79.74         97.0642  81.5435   \n",
       "2        5704      2 2022-07-27      79.90         96.2633  80.9790   \n",
       "3        5703      3 2022-07-26      79.79         96.2182  81.5636   \n",
       "4        5702      4 2022-07-25      79.85         95.5769  81.4458   \n",
       "...       ...    ...        ...        ...             ...      ...   \n",
       "5702        4   5703 1999-08-01      42.52         70.0427  49.7265   \n",
       "5703        3   5704 1999-07-01      42.52         70.3087  49.5148   \n",
       "5704        2   5705 1999-06-01      42.51         70.3235  49.9276   \n",
       "5705        1   5706 1999-05-01      42.56         70.4473  50.2412   \n",
       "5706        0   5707 1999-04-01      42.51         70.7814  50.4872   \n",
       "\n",
       "      Japanese_Yen  \n",
       "0          59.7300  \n",
       "1          58.9300  \n",
       "2          58.3600  \n",
       "3          58.3700  \n",
       "4          58.5400  \n",
       "...            ...  \n",
       "5702       38.0799  \n",
       "5703       38.0322  \n",
       "5704       37.7229  \n",
       "5705       38.2080  \n",
       "5706       37.4703  \n",
       "\n",
       "[5707 rows x 7 columns]"
      ]
     },
     "execution_count": 121,
     "metadata": {},
     "output_type": "execute_result"
    }
   ],
   "source": [
    "d=df1\n",
    "d=d.iloc[::-1]\n",
    "d.reset_index(inplace=True)\n",
    "d"
   ]
  },
  {
   "cell_type": "code",
   "execution_count": 122,
   "metadata": {},
   "outputs": [],
   "source": [
    "train = d[:-225]\n",
    "len(train)\n",
    "test = d[-225:]\n",
    "len(test)\n",
    "train_dates = pd.to_datetime(train['Date'])\n",
    "test_dates  = pd.to_datetime(test['Date'])"
   ]
  },
  {
   "cell_type": "code",
   "execution_count": 194,
   "metadata": {},
   "outputs": [],
   "source": [
    "scaler = MinMaxScaler(feature_range=(0,1))\n",
    "scaled_data = scaler.fit_transform(train['US_Dollar'].values.reshape(-1,1))"
   ]
  },
  {
   "cell_type": "code",
   "execution_count": 195,
   "metadata": {},
   "outputs": [
    {
     "data": {
      "text/plain": [
       "array([[0.98624417],\n",
       "       [0.99410464],\n",
       "       [0.99803488],\n",
       "       ...,\n",
       "       [0.10488823],\n",
       "       [0.10488823],\n",
       "       [0.10341439]])"
      ]
     },
     "execution_count": 195,
     "metadata": {},
     "output_type": "execute_result"
    }
   ],
   "source": [
    "scaled_data"
   ]
  },
  {
   "cell_type": "code",
   "execution_count": 196,
   "metadata": {},
   "outputs": [
    {
     "data": {
      "text/plain": [
       "array([[79.42],\n",
       "       [79.74],\n",
       "       [79.9 ],\n",
       "       ...,\n",
       "       [43.54],\n",
       "       [43.54],\n",
       "       [43.48]])"
      ]
     },
     "execution_count": 196,
     "metadata": {},
     "output_type": "execute_result"
    }
   ],
   "source": [
    "train['US_Dollar'].values.reshape(-1,1)"
   ]
  },
  {
   "cell_type": "code",
   "execution_count": 197,
   "metadata": {},
   "outputs": [],
   "source": [
    "prediction_days = 225\n",
    "\n",
    "x_train = []\n",
    "y_train = []\n",
    "\n",
    "for x in range(prediction_days, len(scaled_data)):\n",
    "    x_train.append(scaled_data[x-prediction_days:x, 0])\n",
    "    y_train.append(scaled_data[x, 0])"
   ]
  },
  {
   "cell_type": "code",
   "execution_count": 198,
   "metadata": {},
   "outputs": [],
   "source": [
    "x_train, y_train = np.array(x_train), np.array(y_train)\n",
    "x_train = np.reshape(x_train, (x_train.shape[0], x_train.shape[1], 1))"
   ]
  },
  {
   "cell_type": "code",
   "execution_count": 199,
   "metadata": {},
   "outputs": [
    {
     "data": {
      "text/plain": [
       "(5257,)"
      ]
     },
     "execution_count": 199,
     "metadata": {},
     "output_type": "execute_result"
    }
   ],
   "source": [
    "y_train.shape"
   ]
  },
  {
   "cell_type": "code",
   "execution_count": 200,
   "metadata": {},
   "outputs": [
    {
     "data": {
      "text/plain": [
       "(5257, 225, 1)"
      ]
     },
     "execution_count": 200,
     "metadata": {},
     "output_type": "execute_result"
    }
   ],
   "source": [
    "x_train.shape"
   ]
  },
  {
   "cell_type": "code",
   "execution_count": 201,
   "metadata": {},
   "outputs": [],
   "source": [
    "from tensorflow.keras.models import Sequential\n",
    "model_usd = Sequential()\n",
    "model_usd.add(LSTM(units =100, activation='relu', input_shape = (x_train.shape[1],1)))\n",
    "#model_usd.add(Dropout(0.8))\n",
    "#model_usd.add(LSTM(units =64, activation='relu', return_sequences=True, dropout=0.3, recurrent_dropout=0.3))\n",
    "#model_usd.add(Dropout(0.8))\n",
    "#model_usd.add(LSTM(units =64, activation='relu', return_sequences=False, dropout=0.3, recurrent_dropout=0.3))\n",
    "#model_usd.add(Dropout(0.8))\n",
    "model_usd.add(Dense(units=1)) # Prediction of the next value"
   ]
  },
  {
   "cell_type": "code",
   "execution_count": 202,
   "metadata": {},
   "outputs": [
    {
     "name": "stdout",
     "output_type": "stream",
     "text": [
      "Model: \"sequential_10\"\n",
      "_________________________________________________________________\n",
      " Layer (type)                Output Shape              Param #   \n",
      "=================================================================\n",
      " lstm_10 (LSTM)              (None, 100)               40800     \n",
      "                                                                 \n",
      " dense_10 (Dense)            (None, 1)                 101       \n",
      "                                                                 \n",
      "=================================================================\n",
      "Total params: 40,901\n",
      "Trainable params: 40,901\n",
      "Non-trainable params: 0\n",
      "_________________________________________________________________\n"
     ]
    }
   ],
   "source": [
    "model_usd.compile(optimizer='adam', loss='mean_squared_error')\n",
    "model_usd.summary()"
   ]
  },
  {
   "cell_type": "code",
   "execution_count": 203,
   "metadata": {},
   "outputs": [
    {
     "name": "stdout",
     "output_type": "stream",
     "text": [
      "Epoch 1/25\n",
      "148/148 [==============================] - 48s 303ms/step - loss: 0.0098 - val_loss: 1.1529e-05\n",
      "Epoch 2/25\n",
      "148/148 [==============================] - 40s 268ms/step - loss: 1.4830e-04 - val_loss: 1.1504e-05\n",
      "Epoch 3/25\n",
      "148/148 [==============================] - 45s 306ms/step - loss: 1.3671e-04 - val_loss: 1.1250e-05\n",
      "Epoch 4/25\n",
      "148/148 [==============================] - 47s 319ms/step - loss: 1.3970e-04 - val_loss: 2.2956e-05\n",
      "Epoch 5/25\n",
      "148/148 [==============================] - 39s 261ms/step - loss: 1.3406e-04 - val_loss: 2.1760e-05\n",
      "Epoch 6/25\n",
      "148/148 [==============================] - 38s 257ms/step - loss: 1.2037e-04 - val_loss: 1.2500e-05\n",
      "Epoch 7/25\n",
      "148/148 [==============================] - 46s 310ms/step - loss: 1.1325e-04 - val_loss: 7.6270e-06\n",
      "Epoch 8/25\n",
      "148/148 [==============================] - 51s 348ms/step - loss: 1.0620e-04 - val_loss: 9.1301e-06\n",
      "Epoch 9/25\n",
      "148/148 [==============================] - 35s 240ms/step - loss: 9.9332e-05 - val_loss: 1.6756e-05\n",
      "Epoch 10/25\n",
      "148/148 [==============================] - 42s 281ms/step - loss: 1.0225e-04 - val_loss: 7.0594e-06\n",
      "Epoch 11/25\n",
      "148/148 [==============================] - 50s 336ms/step - loss: 1.0103e-04 - val_loss: 9.4117e-06\n",
      "Epoch 12/25\n",
      "148/148 [==============================] - 39s 261ms/step - loss: 1.0336e-04 - val_loss: 8.6044e-06\n",
      "Epoch 13/25\n",
      "148/148 [==============================] - 37s 251ms/step - loss: 9.5875e-05 - val_loss: 7.7813e-06\n",
      "Epoch 14/25\n",
      "148/148 [==============================] - 41s 275ms/step - loss: 9.2144e-05 - val_loss: 7.6687e-06\n",
      "Epoch 15/25\n",
      "148/148 [==============================] - 40s 271ms/step - loss: 8.2667e-05 - val_loss: 1.0584e-05\n",
      "Epoch 16/25\n",
      "148/148 [==============================] - 36s 242ms/step - loss: 7.9137e-05 - val_loss: 2.0082e-05\n",
      "Epoch 17/25\n",
      "148/148 [==============================] - 35s 238ms/step - loss: 8.5051e-05 - val_loss: 7.6021e-06\n",
      "Epoch 18/25\n",
      "148/148 [==============================] - 41s 275ms/step - loss: 8.1095e-05 - val_loss: 1.2122e-05\n",
      "Epoch 19/25\n",
      "148/148 [==============================] - 43s 294ms/step - loss: 7.6766e-05 - val_loss: 6.9939e-06\n",
      "Epoch 20/25\n",
      "148/148 [==============================] - 37s 251ms/step - loss: 7.5092e-05 - val_loss: 6.1225e-06\n",
      "Epoch 21/25\n",
      "148/148 [==============================] - 40s 267ms/step - loss: 7.8826e-05 - val_loss: 5.1539e-06\n",
      "Epoch 22/25\n",
      "148/148 [==============================] - 44s 296ms/step - loss: 6.6791e-05 - val_loss: 9.5238e-06\n",
      "Epoch 23/25\n",
      "148/148 [==============================] - 41s 275ms/step - loss: 6.6604e-05 - val_loss: 9.1801e-06\n",
      "Epoch 24/25\n",
      "148/148 [==============================] - 36s 245ms/step - loss: 6.6206e-05 - val_loss: 7.6247e-06\n",
      "Epoch 25/25\n",
      "148/148 [==============================] - 35s 237ms/step - loss: 6.4323e-05 - val_loss: 7.1867e-06\n"
     ]
    },
    {
     "data": {
      "text/plain": [
       "<keras.callbacks.History at 0x2bc13e510d0>"
      ]
     },
     "execution_count": 203,
     "metadata": {},
     "output_type": "execute_result"
    }
   ],
   "source": [
    "#es_callback = keras.callbacks.EarlyStopping(monitor='val_loss', patience=3)\n",
    "history_usd = model_usd.fit(x_train, y_train, epochs = 25, batch_size=32, validation_split=0.1)\n",
    "history_usd"
   ]
  },
  {
   "cell_type": "code",
   "execution_count": 204,
   "metadata": {},
   "outputs": [
    {
     "data": {
      "image/png": "[encoded data removed]",
      "text/plain": [
       "<Figure size 432x288 with 1 Axes>"
      ]
     },
     "metadata": {
      "needs_background": "light"
     },
     "output_type": "display_data"
    }
   ],
   "source": [
    "def graph_plots(history, string):\n",
    "  plt.plot(history.history[string])\n",
    "  plt.plot(history.history['val_'+string])\n",
    "  plt.xlabel(\"Epochs\")\n",
    "  plt.ylabel(string)\n",
    "  plt.legend([string, 'val_'+string])\n",
    "  plt.show()\n",
    "  \n",
    "graph_plots(history_usd, \"loss\")"
   ]
  },
  {
   "cell_type": "code",
   "execution_count": 205,
   "metadata": {},
   "outputs": [
    {
     "name": "stdout",
     "output_type": "stream",
     "text": [
      "8/8 [==============================] - 2s 100ms/step\n"
     ]
    }
   ],
   "source": [
    "actual_val_usd = test['US_Dollar'].values\n",
    "total_val_usd = pd.concat((train['US_Dollar'], test['US_Dollar']),axis=0)\n",
    "\n",
    "model_inputs_usd = total_val_usd[len(total_val_usd)-len(test)-prediction_days:].values\n",
    "model_inputs_usd = model_inputs_usd.reshape(-1,1)\n",
    "model_inputs_usd = scaler.transform(model_inputs_usd)\n",
    "\n",
    "\n",
    "# Make Predictions on Test Data\n",
    "x_test_usd = []\n",
    "\n",
    "for x in range(prediction_days, len(model_inputs_usd)):\n",
    "    x_test_usd.append(model_inputs_usd[x-prediction_days:x, 0])\n",
    "\n",
    "x_test_usd = np.array(x_test_usd)\n",
    "x_test_usd = np.reshape(x_test_usd, (x_test_usd.shape[0], x_test_usd.shape[1], 1))\n",
    "\n",
    "pred_usd = model_usd.predict(x_test_usd)\n",
    "pred_usd = scaler.inverse_transform(pred_usd)"
   ]
  },
  {
   "cell_type": "code",
   "execution_count": 206,
   "metadata": {},
   "outputs": [],
   "source": [
    "import sklearn\n",
    "from sklearn import metrics"
   ]
  },
  {
   "cell_type": "code",
   "execution_count": 207,
   "metadata": {},
   "outputs": [
    {
     "data": {
      "text/plain": [
       "array([[43.460308],\n",
       "       [43.450165],\n",
       "       [43.435455],\n",
       "       [43.42852 ],\n",
       "       [43.412724],\n",
       "       [43.394352],\n",
       "       [43.374302],\n",
       "       [43.361664],\n",
       "       [43.35342 ],\n",
       "       [43.348843],\n",
       "       [43.344273],\n",
       "       [43.3391  ],\n",
       "       [43.338585],\n",
       "       [43.33375 ],\n",
       "       [43.330086],\n",
       "       [43.330345],\n",
       "       [43.33129 ],\n",
       "       [43.335308],\n",
       "       [43.333504],\n",
       "       [43.334385],\n",
       "       [43.33794 ],\n",
       "       [43.341045],\n",
       "       [43.346275],\n",
       "       [43.356117],\n",
       "       [43.36155 ],\n",
       "       [43.35969 ],\n",
       "       [43.35965 ],\n",
       "       [43.350723],\n",
       "       [43.353455],\n",
       "       [43.348087],\n",
       "       [43.346092],\n",
       "       [43.339214],\n",
       "       [43.33622 ],\n",
       "       [43.34269 ],\n",
       "       [43.35763 ],\n",
       "       [43.354378],\n",
       "       [43.34185 ],\n",
       "       [43.352345],\n",
       "       [43.359764],\n",
       "       [43.385555],\n",
       "       [43.371872],\n",
       "       [43.345795],\n",
       "       [43.36359 ],\n",
       "       [43.398228],\n",
       "       [43.44038 ],\n",
       "       [43.47846 ],\n",
       "       [43.50515 ],\n",
       "       [43.526157],\n",
       "       [43.54511 ],\n",
       "       [43.54609 ],\n",
       "       [43.542492],\n",
       "       [43.536526],\n",
       "       [43.532616],\n",
       "       [43.52045 ],\n",
       "       [43.509644],\n",
       "       [43.501015],\n",
       "       [43.491997],\n",
       "       [43.485508],\n",
       "       [43.473007],\n",
       "       [43.466057],\n",
       "       [43.467297],\n",
       "       [43.461758],\n",
       "       [43.457664],\n",
       "       [43.449368],\n",
       "       [43.44833 ],\n",
       "       [43.451355],\n",
       "       [43.44091 ],\n",
       "       [43.434433],\n",
       "       [43.432293],\n",
       "       [43.434185],\n",
       "       [43.442245],\n",
       "       [43.44984 ],\n",
       "       [43.453465],\n",
       "       [43.45865 ],\n",
       "       [43.470886],\n",
       "       [43.45874 ],\n",
       "       [43.43226 ],\n",
       "       [43.408325],\n",
       "       [43.388763],\n",
       "       [43.38532 ],\n",
       "       [43.388397],\n",
       "       [43.39906 ],\n",
       "       [43.39871 ],\n",
       "       [43.42333 ],\n",
       "       [43.420475],\n",
       "       [43.401913],\n",
       "       [43.372974],\n",
       "       [43.353188],\n",
       "       [43.32129 ],\n",
       "       [43.287205],\n",
       "       [43.269108],\n",
       "       [43.260796],\n",
       "       [43.24669 ],\n",
       "       [43.23448 ],\n",
       "       [43.220966],\n",
       "       [43.21149 ],\n",
       "       [43.205566],\n",
       "       [43.185787],\n",
       "       [43.17521 ],\n",
       "       [43.176537],\n",
       "       [43.185596],\n",
       "       [43.186676],\n",
       "       [43.18484 ],\n",
       "       [43.185837],\n",
       "       [43.228485],\n",
       "       [43.258663],\n",
       "       [43.26306 ],\n",
       "       [43.25985 ],\n",
       "       [43.253944],\n",
       "       [43.274857],\n",
       "       [43.293304],\n",
       "       [43.302505],\n",
       "       [43.30828 ],\n",
       "       [43.311295],\n",
       "       [43.320614],\n",
       "       [43.311077],\n",
       "       [43.27591 ],\n",
       "       [43.23004 ],\n",
       "       [43.185677],\n",
       "       [43.14517 ],\n",
       "       [43.120674],\n",
       "       [43.1112  ],\n",
       "       [43.106018],\n",
       "       [43.091873],\n",
       "       [43.06265 ],\n",
       "       [43.02796 ],\n",
       "       [43.008842],\n",
       "       [42.977077],\n",
       "       [42.96104 ],\n",
       "       [42.932144],\n",
       "       [42.907394],\n",
       "       [42.89247 ],\n",
       "       [42.864204],\n",
       "       [42.834156],\n",
       "       [42.853   ],\n",
       "       [42.850037],\n",
       "       [42.82377 ],\n",
       "       [42.78162 ],\n",
       "       [42.748806],\n",
       "       [42.72382 ],\n",
       "       [42.70924 ],\n",
       "       [42.692776],\n",
       "       [42.681953],\n",
       "       [42.6786  ],\n",
       "       [42.684074],\n",
       "       [42.688244],\n",
       "       [42.692703],\n",
       "       [42.68848 ],\n",
       "       [42.68703 ],\n",
       "       [42.691284],\n",
       "       [42.68968 ],\n",
       "       [42.68789 ],\n",
       "       [42.691704],\n",
       "       [42.703506],\n",
       "       [42.724968],\n",
       "       [42.74331 ],\n",
       "       [42.79357 ],\n",
       "       [42.77817 ],\n",
       "       [42.758617],\n",
       "       [42.7305  ],\n",
       "       [42.727375],\n",
       "       [42.743465],\n",
       "       [42.73475 ],\n",
       "       [42.746002],\n",
       "       [42.723587],\n",
       "       [42.699997],\n",
       "       [42.67456 ],\n",
       "       [42.651436],\n",
       "       [42.62577 ],\n",
       "       [42.570503],\n",
       "       [42.50546 ],\n",
       "       [42.450676],\n",
       "       [42.410183],\n",
       "       [42.37487 ],\n",
       "       [42.351746],\n",
       "       [42.336037],\n",
       "       [42.328304],\n",
       "       [42.329086],\n",
       "       [42.33881 ],\n",
       "       [42.346798],\n",
       "       [42.3571  ],\n",
       "       [42.368656],\n",
       "       [42.383423],\n",
       "       [42.392338],\n",
       "       [42.406456],\n",
       "       [42.425434],\n",
       "       [42.44851 ],\n",
       "       [42.4665  ],\n",
       "       [42.484776],\n",
       "       [42.486794],\n",
       "       [42.47959 ],\n",
       "       [42.457035],\n",
       "       [42.424793],\n",
       "       [42.40792 ],\n",
       "       [42.398693],\n",
       "       [42.40465 ],\n",
       "       [42.41277 ],\n",
       "       [42.402027],\n",
       "       [42.4007  ],\n",
       "       [42.403168],\n",
       "       [42.4005  ],\n",
       "       [42.398262],\n",
       "       [42.4048  ],\n",
       "       [42.411064],\n",
       "       [42.41365 ],\n",
       "       [42.42083 ],\n",
       "       [42.43224 ],\n",
       "       [42.441635],\n",
       "       [42.448708],\n",
       "       [42.453518],\n",
       "       [42.453625],\n",
       "       [42.457966],\n",
       "       [42.461136],\n",
       "       [42.463223],\n",
       "       [42.46165 ],\n",
       "       [42.459667],\n",
       "       [42.449387],\n",
       "       [42.45392 ],\n",
       "       [42.45334 ],\n",
       "       [42.45297 ],\n",
       "       [42.458313],\n",
       "       [42.463287],\n",
       "       [42.46746 ],\n",
       "       [42.467915],\n",
       "       [42.48146 ]], dtype=float32)"
      ]
     },
     "execution_count": 207,
     "metadata": {},
     "output_type": "execute_result"
    }
   ],
   "source": [
    "pred_usd"
   ]
  },
  {
   "cell_type": "code",
   "execution_count": 208,
   "metadata": {},
   "outputs": [
    {
     "data": {
      "text/plain": [
       "0.004333664801254047"
      ]
     },
     "execution_count": 208,
     "metadata": {},
     "output_type": "execute_result"
    }
   ],
   "source": [
    "sklearn.metrics.mean_squared_error(test[\"US_Dollar\"], pred_usd)"
   ]
  },
  {
   "cell_type": "code",
   "execution_count": 209,
   "metadata": {},
   "outputs": [],
   "source": [
    "pred_final_usd=pred_usd.reshape(len(pred_usd),)"
   ]
  },
  {
   "cell_type": "code",
   "execution_count": 210,
   "metadata": {},
   "outputs": [
    {
     "data": {
      "text/plain": [
       "array([43.460308, 43.450165, 43.435455, 43.42852 , 43.412724, 43.394352,\n",
       "       43.374302, 43.361664, 43.35342 , 43.348843, 43.344273, 43.3391  ,\n",
       "       43.338585, 43.33375 , 43.330086, 43.330345, 43.33129 , 43.335308,\n",
       "       43.333504, 43.334385, 43.33794 , 43.341045, 43.346275, 43.356117,\n",
       "       43.36155 , 43.35969 , 43.35965 , 43.350723, 43.353455, 43.348087,\n",
       "       43.346092, 43.339214, 43.33622 , 43.34269 , 43.35763 , 43.354378,\n",
       "       43.34185 , 43.352345, 43.359764, 43.385555, 43.371872, 43.345795,\n",
       "       43.36359 , 43.398228, 43.44038 , 43.47846 , 43.50515 , 43.526157,\n",
       "       43.54511 , 43.54609 , 43.542492, 43.536526, 43.532616, 43.52045 ,\n",
       "       43.509644, 43.501015, 43.491997, 43.485508, 43.473007, 43.466057,\n",
       "       43.467297, 43.461758, 43.457664, 43.449368, 43.44833 , 43.451355,\n",
       "       43.44091 , 43.434433, 43.432293, 43.434185, 43.442245, 43.44984 ,\n",
       "       43.453465, 43.45865 , 43.470886, 43.45874 , 43.43226 , 43.408325,\n",
       "       43.388763, 43.38532 , 43.388397, 43.39906 , 43.39871 , 43.42333 ,\n",
       "       43.420475, 43.401913, 43.372974, 43.353188, 43.32129 , 43.287205,\n",
       "       43.269108, 43.260796, 43.24669 , 43.23448 , 43.220966, 43.21149 ,\n",
       "       43.205566, 43.185787, 43.17521 , 43.176537, 43.185596, 43.186676,\n",
       "       43.18484 , 43.185837, 43.228485, 43.258663, 43.26306 , 43.25985 ,\n",
       "       43.253944, 43.274857, 43.293304, 43.302505, 43.30828 , 43.311295,\n",
       "       43.320614, 43.311077, 43.27591 , 43.23004 , 43.185677, 43.14517 ,\n",
       "       43.120674, 43.1112  , 43.106018, 43.091873, 43.06265 , 43.02796 ,\n",
       "       43.008842, 42.977077, 42.96104 , 42.932144, 42.907394, 42.89247 ,\n",
       "       42.864204, 42.834156, 42.853   , 42.850037, 42.82377 , 42.78162 ,\n",
       "       42.748806, 42.72382 , 42.70924 , 42.692776, 42.681953, 42.6786  ,\n",
       "       42.684074, 42.688244, 42.692703, 42.68848 , 42.68703 , 42.691284,\n",
       "       42.68968 , 42.68789 , 42.691704, 42.703506, 42.724968, 42.74331 ,\n",
       "       42.79357 , 42.77817 , 42.758617, 42.7305  , 42.727375, 42.743465,\n",
       "       42.73475 , 42.746002, 42.723587, 42.699997, 42.67456 , 42.651436,\n",
       "       42.62577 , 42.570503, 42.50546 , 42.450676, 42.410183, 42.37487 ,\n",
       "       42.351746, 42.336037, 42.328304, 42.329086, 42.33881 , 42.346798,\n",
       "       42.3571  , 42.368656, 42.383423, 42.392338, 42.406456, 42.425434,\n",
       "       42.44851 , 42.4665  , 42.484776, 42.486794, 42.47959 , 42.457035,\n",
       "       42.424793, 42.40792 , 42.398693, 42.40465 , 42.41277 , 42.402027,\n",
       "       42.4007  , 42.403168, 42.4005  , 42.398262, 42.4048  , 42.411064,\n",
       "       42.41365 , 42.42083 , 42.43224 , 42.441635, 42.448708, 42.453518,\n",
       "       42.453625, 42.457966, 42.461136, 42.463223, 42.46165 , 42.459667,\n",
       "       42.449387, 42.45392 , 42.45334 , 42.45297 , 42.458313, 42.463287,\n",
       "       42.46746 , 42.467915, 42.48146 ], dtype=float32)"
      ]
     },
     "execution_count": 210,
     "metadata": {},
     "output_type": "execute_result"
    }
   ],
   "source": [
    "pred_final_usd"
   ]
  },
  {
   "cell_type": "code",
   "execution_count": 211,
   "metadata": {},
   "outputs": [
    {
     "data": {
      "text/plain": [
       "5482    43.48\n",
       "5483    43.46\n",
       "5484    43.48\n",
       "5485    43.44\n",
       "5486    43.42\n",
       "        ...  \n",
       "5702    42.52\n",
       "5703    42.52\n",
       "5704    42.51\n",
       "5705    42.56\n",
       "5706    42.51\n",
       "Name: US_Dollar, Length: 225, dtype: float64"
      ]
     },
     "execution_count": 211,
     "metadata": {},
     "output_type": "execute_result"
    }
   ],
   "source": [
    "test[\"US_Dollar\"]"
   ]
  },
  {
   "cell_type": "code",
   "execution_count": 212,
   "metadata": {},
   "outputs": [
    {
     "data": {
      "image/png": "[encoded data removed]",
      "text/plain": [
       "<Figure size 432x288 with 1 Axes>"
      ]
     },
     "metadata": {
      "needs_background": "light"
     },
     "output_type": "display_data"
    }
   ],
   "source": [
    "plt.plot(np.array(test[\"US_Dollar\"]))\n",
    "plt.plot(pred_usd)\n",
    "plt.xlabel(\"Future time index\")\n",
    "plt.ylabel(\"US Dollar Value\")\n",
    "plt.legend([\"Actual\", \"Predicted\"])\n",
    "plt.savefig('plots/lstm1.png',dpi=300,bbox_inces='tight')\n",
    "plt.show()"
   ]
  },
  {
   "cell_type": "code",
   "execution_count": 123,
   "metadata": {},
   "outputs": [],
   "source": [
    "scaler = MinMaxScaler(feature_range=(0,1))\n",
    "scaled_data = scaler.fit_transform(train['Pound_Sterling'].values.reshape(-1,1))"
   ]
  },
  {
   "cell_type": "code",
   "execution_count": 124,
   "metadata": {},
   "outputs": [
    {
     "data": {
      "text/plain": [
       "array([[0.7829787 ],\n",
       "       [0.78691525],\n",
       "       [0.76787671],\n",
       "       ...,\n",
       "       [0.14714517],\n",
       "       [0.16166001],\n",
       "       [0.1573859 ]])"
      ]
     },
     "execution_count": 124,
     "metadata": {},
     "output_type": "execute_result"
    }
   ],
   "source": [
    "scaled_data"
   ]
  },
  {
   "cell_type": "code",
   "execution_count": 131,
   "metadata": {},
   "outputs": [],
   "source": [
    "prediction_days = 225\n",
    "\n",
    "x_train = []\n",
    "y_train = []\n",
    "\n",
    "for x in range(prediction_days, len(scaled_data)):\n",
    "    x_train.append(scaled_data[x-prediction_days:x, 0])\n",
    "    y_train.append(scaled_data[x, 0])"
   ]
  },
  {
   "cell_type": "code",
   "execution_count": 132,
   "metadata": {},
   "outputs": [],
   "source": [
    "x_train, y_train = np.array(x_train), np.array(y_train)\n",
    "x_train = np.reshape(x_train, (x_train.shape[0], x_train.shape[1], 1))"
   ]
  },
  {
   "cell_type": "code",
   "execution_count": 133,
   "metadata": {},
   "outputs": [],
   "source": [
    "from tensorflow.keras.models import Sequential\n",
    "model_pound = Sequential()\n",
    "model_pound.add(LSTM(units =100, activation='relu', input_shape = (x_train.shape[1],1)))\n",
    "#model_pound.add(Dropout(0.2))\n",
    "#model_pound.add(LSTM(units =128, activation='relu', return_sequences=True))\n",
    "#model_pound.add(Dropout(0.2))\n",
    "#model_pound.add(LSTM(units =128, activation='relu', return_sequences=False))\n",
    "#model_pound.add(Dropout(0.2))\n",
    "model_pound.add(Dense(units=1)) # Prediction of the next value"
   ]
  },
  {
   "cell_type": "code",
   "execution_count": 134,
   "metadata": {},
   "outputs": [
    {
     "name": "stdout",
     "output_type": "stream",
     "text": [
      "Model: \"sequential_7\"\n",
      "_________________________________________________________________\n",
      " Layer (type)                Output Shape              Param #   \n",
      "=================================================================\n",
      " lstm_7 (LSTM)               (None, 100)               40800     \n",
      "                                                                 \n",
      " dense_7 (Dense)             (None, 1)                 101       \n",
      "                                                                 \n",
      "=================================================================\n",
      "Total params: 40,901\n",
      "Trainable params: 40,901\n",
      "Non-trainable params: 0\n",
      "_________________________________________________________________\n"
     ]
    }
   ],
   "source": [
    "model_pound.compile(optimizer='adam', loss='mean_squared_error')\n",
    "model_pound.summary()"
   ]
  },
  {
   "cell_type": "code",
   "execution_count": 135,
   "metadata": {},
   "outputs": [
    {
     "name": "stdout",
     "output_type": "stream",
     "text": [
      "Epoch 1/25\n",
      "148/148 [==============================] - 24s 153ms/step - loss: 0.0146 - val_loss: 0.0014\n",
      "Epoch 2/25\n",
      "148/148 [==============================] - 26s 173ms/step - loss: 7.1685e-04 - val_loss: 3.2732e-04\n",
      "Epoch 3/25\n",
      "148/148 [==============================] - 31s 207ms/step - loss: 6.1128e-04 - val_loss: 2.6456e-04\n",
      "Epoch 4/25\n",
      "148/148 [==============================] - 24s 159ms/step - loss: 5.4142e-04 - val_loss: 2.3404e-04\n",
      "Epoch 5/25\n",
      "148/148 [==============================] - 29s 194ms/step - loss: 4.8084e-04 - val_loss: 2.2465e-04\n",
      "Epoch 6/25\n",
      "148/148 [==============================] - 28s 191ms/step - loss: 3.9818e-04 - val_loss: 2.1822e-04\n",
      "Epoch 7/25\n",
      "148/148 [==============================] - 25s 171ms/step - loss: 3.6497e-04 - val_loss: 1.9171e-04\n",
      "Epoch 8/25\n",
      "148/148 [==============================] - 26s 173ms/step - loss: 3.2954e-04 - val_loss: 1.5345e-04\n",
      "Epoch 9/25\n",
      "148/148 [==============================] - 25s 171ms/step - loss: 3.3596e-04 - val_loss: 1.4560e-04\n",
      "Epoch 10/25\n",
      "148/148 [==============================] - 25s 166ms/step - loss: 2.7895e-04 - val_loss: 1.3804e-04\n",
      "Epoch 11/25\n",
      "148/148 [==============================] - 32s 216ms/step - loss: 2.8132e-04 - val_loss: 1.6413e-04\n",
      "Epoch 12/25\n",
      "148/148 [==============================] - 25s 168ms/step - loss: 2.6337e-04 - val_loss: 1.2845e-04\n",
      "Epoch 13/25\n",
      "148/148 [==============================] - 24s 160ms/step - loss: 2.7649e-04 - val_loss: 1.3165e-04\n",
      "Epoch 14/25\n",
      "148/148 [==============================] - 22s 152ms/step - loss: 2.6564e-04 - val_loss: 1.1903e-04\n",
      "Epoch 15/25\n",
      "148/148 [==============================] - 23s 157ms/step - loss: 2.5992e-04 - val_loss: 1.1748e-04\n",
      "Epoch 16/25\n",
      "148/148 [==============================] - 23s 158ms/step - loss: 2.4576e-04 - val_loss: 1.1332e-04\n",
      "Epoch 17/25\n",
      "148/148 [==============================] - 29s 193ms/step - loss: 2.5046e-04 - val_loss: 1.4825e-04\n",
      "Epoch 18/25\n",
      "148/148 [==============================] - 26s 174ms/step - loss: 2.3637e-04 - val_loss: 1.0861e-04\n",
      "Epoch 19/25\n",
      "148/148 [==============================] - 24s 162ms/step - loss: 2.3752e-04 - val_loss: 1.3696e-04\n",
      "Epoch 20/25\n",
      "148/148 [==============================] - 29s 196ms/step - loss: 2.2584e-04 - val_loss: 1.0713e-04\n",
      "Epoch 21/25\n",
      "148/148 [==============================] - 35s 239ms/step - loss: 2.3602e-04 - val_loss: 1.0334e-04\n",
      "Epoch 22/25\n",
      "148/148 [==============================] - 35s 240ms/step - loss: 2.2555e-04 - val_loss: 1.0790e-04\n",
      "Epoch 23/25\n",
      "148/148 [==============================] - 31s 211ms/step - loss: 2.2896e-04 - val_loss: 1.0348e-04\n",
      "Epoch 24/25\n",
      "148/148 [==============================] - 31s 212ms/step - loss: 2.2371e-04 - val_loss: 9.8541e-05\n",
      "Epoch 25/25\n",
      "148/148 [==============================] - 33s 225ms/step - loss: 2.2793e-04 - val_loss: 1.0627e-04\n"
     ]
    },
    {
     "data": {
      "text/plain": [
       "<keras.callbacks.History at 0x2bc139ff2b0>"
      ]
     },
     "execution_count": 135,
     "metadata": {},
     "output_type": "execute_result"
    }
   ],
   "source": [
    "history_pound = model_pound.fit(x_train, y_train, epochs = 25, batch_size=32, validation_split=0.1)\n",
    "history_pound"
   ]
  },
  {
   "cell_type": "code",
   "execution_count": 136,
   "metadata": {},
   "outputs": [
    {
     "data": {
      "text/plain": [
       "[0.0013585732085630298,\n",
       " 0.00032732015824876726,\n",
       " 0.00026456351042725146,\n",
       " 0.0002340360515518114,\n",
       " 0.0002246519725304097,\n",
       " 0.00021822033158969134,\n",
       " 0.0001917101035360247,\n",
       " 0.00015345282736234367,\n",
       " 0.00014559872215613723,\n",
       " 0.00013804499758407474,\n",
       " 0.00016412964032497257,\n",
       " 0.00012844541925005615,\n",
       " 0.0001316521520493552,\n",
       " 0.0001190299226436764,\n",
       " 0.00011747748794732615,\n",
       " 0.000113319416414015,\n",
       " 0.00014824524987488985,\n",
       " 0.00010861279588425532,\n",
       " 0.00013696475070901215,\n",
       " 0.00010713141091400757,\n",
       " 0.00010334206308471039,\n",
       " 0.00010789950465550646,\n",
       " 0.00010347512579755858,\n",
       " 9.854062955128029e-05,\n",
       " 0.00010626627044985071]"
      ]
     },
     "execution_count": 136,
     "metadata": {},
     "output_type": "execute_result"
    }
   ],
   "source": [
    "history_pound.history['val_loss']"
   ]
  },
  {
   "cell_type": "code",
   "execution_count": 137,
   "metadata": {},
   "outputs": [
    {
     "data": {
      "image/png": "[encoded data removed]",
      "text/plain": [
       "<Figure size 432x288 with 1 Axes>"
      ]
     },
     "metadata": {
      "needs_background": "light"
     },
     "output_type": "display_data"
    }
   ],
   "source": [
    "def graph_plots(history, string):\n",
    "  plt.plot(history.history[string])\n",
    "  plt.plot(history.history['val_'+string])\n",
    "  plt.xlabel(\"Epochs\")\n",
    "  plt.ylabel(string)\n",
    "  plt.legend([string, 'val_'+string])\n",
    "  plt.show()\n",
    "  \n",
    "graph_plots(history_pound, \"loss\")"
   ]
  },
  {
   "cell_type": "code",
   "execution_count": 138,
   "metadata": {},
   "outputs": [
    {
     "name": "stdout",
     "output_type": "stream",
     "text": [
      "8/8 [==============================] - 2s 141ms/step\n"
     ]
    }
   ],
   "source": [
    "actual_val_pound = test['Pound_Sterling'].values\n",
    "total_val_pound = pd.concat((train['Pound_Sterling'], test['Pound_Sterling']),axis=0)\n",
    "\n",
    "model_inputs_pound = total_val_pound[len(total_val_pound)-len(test)-prediction_days:].values\n",
    "model_inputs_pound = model_inputs_pound.reshape(-1,1)\n",
    "model_inputs_pound = scaler.transform(model_inputs_pound)\n",
    "\n",
    "\n",
    "# Make Predictions on Test Data\n",
    "x_test_pound = []\n",
    "\n",
    "for x in range(prediction_days, len(model_inputs_pound)):\n",
    "    x_test_pound.append(model_inputs_pound[x-prediction_days:x, 0])\n",
    "\n",
    "x_test_pound = np.array(x_test_pound)\n",
    "x_test_pound = np.reshape(x_test_pound, (x_test_pound.shape[0], x_test_pound.shape[1], 1))\n",
    "\n",
    "pred_pound = model_pound.predict(x_test_pound)\n",
    "pred_pound = scaler.inverse_transform(pred_pound)"
   ]
  },
  {
   "cell_type": "code",
   "execution_count": 139,
   "metadata": {},
   "outputs": [
    {
     "name": "stdout",
     "output_type": "stream",
     "text": [
      "8/8 [==============================] - 1s 130ms/step\n"
     ]
    },
    {
     "data": {
      "text/plain": [
       "(225, 1)"
      ]
     },
     "execution_count": 139,
     "metadata": {},
     "output_type": "execute_result"
    }
   ],
   "source": [
    "model_pound.predict(x_test_pound).shape"
   ]
  },
  {
   "cell_type": "code",
   "execution_count": 140,
   "metadata": {},
   "outputs": [
    {
     "data": {
      "text/plain": [
       "0.13919330365386698"
      ]
     },
     "execution_count": 140,
     "metadata": {},
     "output_type": "execute_result"
    }
   ],
   "source": [
    "sklearn.metrics.mean_squared_error(test[\"Pound_Sterling\"], pred_pound)"
   ]
  },
  {
   "cell_type": "code",
   "execution_count": 141,
   "metadata": {},
   "outputs": [],
   "source": [
    "pred_final_pound=pred_pound.reshape(len(pred_pound),)"
   ]
  },
  {
   "cell_type": "code",
   "execution_count": 191,
   "metadata": {},
   "outputs": [
    {
     "data": {
      "image/png": "[encoded data removed]",
      "text/plain": [
       "<Figure size 432x288 with 1 Axes>"
      ]
     },
     "metadata": {
      "needs_background": "light"
     },
     "output_type": "display_data"
    }
   ],
   "source": [
    "plt.plot(np.array(test[\"Pound_Sterling\"]))\n",
    "plt.plot(pred_pound)\n",
    "plt.xlabel(\"Future time index\")\n",
    "plt.ylabel(\"Pound Sterling Value\")\n",
    "plt.legend([\"Actual\", \"Predicted\"])\n",
    "plt.savefig('plots/lstm2.png',dpi=300,bbox_inces='tight')\n",
    "\n",
    "plt.show()"
   ]
  },
  {
   "cell_type": "code",
   "execution_count": 143,
   "metadata": {},
   "outputs": [],
   "source": [
    "scaler = MinMaxScaler(feature_range=(0,1))\n",
    "scaled_data = scaler.fit_transform(train['Euro'].values.reshape(-1,1))"
   ]
  },
  {
   "cell_type": "code",
   "execution_count": 144,
   "metadata": {},
   "outputs": [],
   "source": [
    "prediction_days = 225\n",
    "\n",
    "x_train = []\n",
    "y_train = []\n",
    "\n",
    "for x in range(prediction_days, len(scaled_data)):\n",
    "    x_train.append(scaled_data[x-prediction_days:x, 0])\n",
    "    y_train.append(scaled_data[x, 0])"
   ]
  },
  {
   "cell_type": "code",
   "execution_count": 145,
   "metadata": {},
   "outputs": [],
   "source": [
    "x_train, y_train = np.array(x_train), np.array(y_train)\n",
    "x_train = np.reshape(x_train, (x_train.shape[0], x_train.shape[1], 1))"
   ]
  },
  {
   "cell_type": "code",
   "execution_count": 146,
   "metadata": {},
   "outputs": [],
   "source": [
    "from tensorflow.keras.models import Sequential\n",
    "model_euro = Sequential()\n",
    "model_euro.add(LSTM(units =100, activation='relu', input_shape = (x_train.shape[1],1), return_sequences=False))\n",
    "#model_euro.add(Dropout(0.2))\n",
    "#model_euro.add(LSTM(units =128, activation='relu', return_sequences=True))\n",
    "#model_euro.add(Dropout(0.2))\n",
    "#model_euro.add(LSTM(units =128, activation='relu', return_sequences=False))\n",
    "#model_euro.add(Dropout(0.2))\n",
    "model_euro.add(Dense(units=1)) # Prediction of the next value"
   ]
  },
  {
   "cell_type": "code",
   "execution_count": 147,
   "metadata": {},
   "outputs": [
    {
     "name": "stdout",
     "output_type": "stream",
     "text": [
      "Model: \"sequential_8\"\n",
      "_________________________________________________________________\n",
      " Layer (type)                Output Shape              Param #   \n",
      "=================================================================\n",
      " lstm_8 (LSTM)               (None, 100)               40800     \n",
      "                                                                 \n",
      " dense_8 (Dense)             (None, 1)                 101       \n",
      "                                                                 \n",
      "=================================================================\n",
      "Total params: 40,901\n",
      "Trainable params: 40,901\n",
      "Non-trainable params: 0\n",
      "_________________________________________________________________\n"
     ]
    }
   ],
   "source": [
    "model_euro.compile(optimizer='adam', loss='mean_squared_error')\n",
    "model_euro.summary()"
   ]
  },
  {
   "cell_type": "code",
   "execution_count": 148,
   "metadata": {},
   "outputs": [
    {
     "name": "stdout",
     "output_type": "stream",
     "text": [
      "Epoch 1/25\n",
      "148/148 [==============================] - 41s 242ms/step - loss: 180852752.0000 - val_loss: 0.0025\n",
      "Epoch 2/25\n",
      "148/148 [==============================] - 36s 241ms/step - loss: 0.0323 - val_loss: 2.4191e-04\n",
      "Epoch 3/25\n",
      "148/148 [==============================] - 28s 190ms/step - loss: 0.0110 - val_loss: 2.0070e-04\n",
      "Epoch 4/25\n",
      "148/148 [==============================] - 29s 199ms/step - loss: 0.0033 - val_loss: 1.6242e-04\n",
      "Epoch 5/25\n",
      "148/148 [==============================] - 34s 229ms/step - loss: 0.0010 - val_loss: 1.5427e-04\n",
      "Epoch 6/25\n",
      "148/148 [==============================] - 32s 218ms/step - loss: 4.2050e-04 - val_loss: 1.4338e-04\n",
      "Epoch 7/25\n",
      "148/148 [==============================] - 32s 214ms/step - loss: 2.6723e-04 - val_loss: 1.5551e-04\n",
      "Epoch 8/25\n",
      "148/148 [==============================] - 33s 221ms/step - loss: 2.1674e-04 - val_loss: 1.3371e-04\n",
      "Epoch 9/25\n",
      "148/148 [==============================] - 30s 200ms/step - loss: 1.9517e-04 - val_loss: 1.4000e-04\n",
      "Epoch 10/25\n",
      "148/148 [==============================] - 33s 220ms/step - loss: 1.8270e-04 - val_loss: 1.6568e-04\n",
      "Epoch 11/25\n",
      "148/148 [==============================] - 34s 228ms/step - loss: 1.7697e-04 - val_loss: 1.2316e-04\n",
      "Epoch 12/25\n",
      "148/148 [==============================] - 33s 221ms/step - loss: 1.7030e-04 - val_loss: 1.2492e-04\n",
      "Epoch 13/25\n",
      "148/148 [==============================] - 33s 224ms/step - loss: 1.6616e-04 - val_loss: 1.3356e-04\n",
      "Epoch 14/25\n",
      "148/148 [==============================] - 31s 208ms/step - loss: 1.6183e-04 - val_loss: 1.2374e-04\n",
      "Epoch 15/25\n",
      "148/148 [==============================] - 32s 213ms/step - loss: 1.5800e-04 - val_loss: 1.1199e-04\n",
      "Epoch 16/25\n",
      "148/148 [==============================] - 33s 223ms/step - loss: 1.5490e-04 - val_loss: 1.2129e-04\n",
      "Epoch 17/25\n",
      "148/148 [==============================] - 33s 223ms/step - loss: 1.5019e-04 - val_loss: 1.1155e-04\n",
      "Epoch 18/25\n",
      "148/148 [==============================] - 34s 227ms/step - loss: 1.4733e-04 - val_loss: 1.1190e-04\n",
      "Epoch 19/25\n",
      "148/148 [==============================] - 34s 233ms/step - loss: 1.4449e-04 - val_loss: 1.1808e-04\n",
      "Epoch 20/25\n",
      "148/148 [==============================] - 38s 255ms/step - loss: 1.4247e-04 - val_loss: 1.0685e-04\n",
      "Epoch 21/25\n",
      "148/148 [==============================] - 32s 217ms/step - loss: 1.4103e-04 - val_loss: 1.1500e-04\n",
      "Epoch 22/25\n",
      "148/148 [==============================] - 26s 177ms/step - loss: 1.3899e-04 - val_loss: 1.3229e-04\n",
      "Epoch 23/25\n",
      "148/148 [==============================] - 32s 217ms/step - loss: 1.3333e-04 - val_loss: 1.0172e-04\n",
      "Epoch 24/25\n",
      "148/148 [==============================] - 33s 226ms/step - loss: 1.3109e-04 - val_loss: 1.0684e-04\n",
      "Epoch 25/25\n",
      "148/148 [==============================] - 33s 226ms/step - loss: 1.3122e-04 - val_loss: 1.1522e-04\n"
     ]
    },
    {
     "data": {
      "text/plain": [
       "<keras.callbacks.History at 0x2bc17c3ab50>"
      ]
     },
     "execution_count": 148,
     "metadata": {},
     "output_type": "execute_result"
    }
   ],
   "source": [
    "history_euro = model_euro.fit(x_train, y_train, epochs = 25, batch_size=32, validation_split=0.1)\n",
    "history_euro"
   ]
  },
  {
   "cell_type": "code",
   "execution_count": 149,
   "metadata": {},
   "outputs": [
    {
     "data": {
      "image/png": "[encoded data removed]",
      "text/plain": [
       "<Figure size 432x288 with 1 Axes>"
      ]
     },
     "metadata": {
      "needs_background": "light"
     },
     "output_type": "display_data"
    }
   ],
   "source": [
    "def graph_plots(history, string):\n",
    "  plt.plot(history.history[string])\n",
    "  plt.plot(history.history['val_'+string])\n",
    "  plt.xlabel(\"Epochs\")\n",
    "  plt.ylabel(string)\n",
    "  plt.legend([string, 'val_'+string])\n",
    "  plt.show()\n",
    "  \n",
    "graph_plots(history_euro, \"loss\")"
   ]
  },
  {
   "cell_type": "code",
   "execution_count": 150,
   "metadata": {},
   "outputs": [
    {
     "name": "stdout",
     "output_type": "stream",
     "text": [
      "8/8 [==============================] - 2s 138ms/step\n"
     ]
    }
   ],
   "source": [
    "actual_val_euro = test['Euro'].values\n",
    "total_val_euro = pd.concat((train['Euro'], test['Euro']),axis=0)\n",
    "\n",
    "model_inputs_euro = total_val_euro[len(total_val_euro)-len(test)-prediction_days:].values\n",
    "model_inputs_euro = model_inputs_euro.reshape(-1,1)\n",
    "model_inputs_euro = scaler.transform(model_inputs_euro)\n",
    "\n",
    "\n",
    "# Make Predictions on Test Data\n",
    "x_test_euro = []\n",
    "\n",
    "for x in range(prediction_days, len(model_inputs_euro)):\n",
    "    x_test_euro.append(model_inputs_euro[x-prediction_days:x, 0])\n",
    "\n",
    "x_test_euro = np.array(x_test_euro)\n",
    "x_test_euro = np.reshape(x_test_euro, (x_test_euro.shape[0], x_test_euro.shape[1], 1))\n",
    "\n",
    "pred_euro = model_euro.predict(x_test_euro)\n",
    "pred_euro = scaler.inverse_transform(pred_euro)"
   ]
  },
  {
   "cell_type": "code",
   "execution_count": 151,
   "metadata": {},
   "outputs": [
    {
     "data": {
      "text/plain": [
       "0.2698123930375116"
      ]
     },
     "execution_count": 151,
     "metadata": {},
     "output_type": "execute_result"
    }
   ],
   "source": [
    "sklearn.metrics.mean_squared_error(test[\"Euro\"], pred_euro)"
   ]
  },
  {
   "cell_type": "code",
   "execution_count": 152,
   "metadata": {},
   "outputs": [],
   "source": [
    "pred_final_euro=pred_euro.reshape(len(pred_euro),)"
   ]
  },
  {
   "cell_type": "code",
   "execution_count": 190,
   "metadata": {},
   "outputs": [
    {
     "data": {
      "image/png": "[encoded data removed]",
      "text/plain": [
       "<Figure size 432x288 with 1 Axes>"
      ]
     },
     "metadata": {
      "needs_background": "light"
     },
     "output_type": "display_data"
    }
   ],
   "source": [
    "plt.plot(np.array(test[\"Euro\"]))\n",
    "plt.plot(pred_euro)\n",
    "plt.xlabel(\"Future time index\")\n",
    "plt.ylabel(\"Euro Value\")\n",
    "plt.legend([\"Actual\", \"Predicted\"])\n",
    "plt.savefig('plots/lstm3.png',dpi=300,bbox_inces='tight')\n",
    "\n",
    "plt.show()"
   ]
  },
  {
   "cell_type": "code",
   "execution_count": 154,
   "metadata": {},
   "outputs": [],
   "source": [
    "scaler = MinMaxScaler(feature_range=(0,1))\n",
    "scaled_data = scaler.fit_transform(train['Japanese_Yen'].values.reshape(-1,1))"
   ]
  },
  {
   "cell_type": "code",
   "execution_count": 155,
   "metadata": {},
   "outputs": [],
   "source": [
    "prediction_days = 225\n",
    "\n",
    "x_train = []\n",
    "y_train = []\n",
    "\n",
    "for x in range(prediction_days, len(scaled_data)):\n",
    "    x_train.append(scaled_data[x-prediction_days:x, 0])\n",
    "    y_train.append(scaled_data[x, 0])"
   ]
  },
  {
   "cell_type": "code",
   "execution_count": 156,
   "metadata": {},
   "outputs": [],
   "source": [
    "x_train, y_train = np.array(x_train), np.array(y_train)\n",
    "x_train = np.reshape(x_train, (x_train.shape[0], x_train.shape[1], 1))"
   ]
  },
  {
   "cell_type": "code",
   "execution_count": 157,
   "metadata": {},
   "outputs": [],
   "source": [
    "from tensorflow.keras.models import Sequential\n",
    "model_yen = Sequential()\n",
    "model_yen.add(LSTM(units =100, activation='relu', input_shape = (x_train.shape[1],1), return_sequences=False))\n",
    "#model_yen.add(Dropout(0.2))\n",
    "#model_yen.add(LSTM(units =128, activation='relu', return_sequences=True))\n",
    "#model_yen.add(Dropout(0.2))\n",
    "#model_yen.add(LSTM(units =128, activation='relu', return_sequences=False))\n",
    "#model_yen.add(Dropout(0.2))\n",
    "model_yen.add(Dense(units=1)) # Prediction of the next value"
   ]
  },
  {
   "cell_type": "code",
   "execution_count": 158,
   "metadata": {},
   "outputs": [
    {
     "name": "stdout",
     "output_type": "stream",
     "text": [
      "Model: \"sequential_9\"\n",
      "_________________________________________________________________\n",
      " Layer (type)                Output Shape              Param #   \n",
      "=================================================================\n",
      " lstm_9 (LSTM)               (None, 100)               40800     \n",
      "                                                                 \n",
      " dense_9 (Dense)             (None, 1)                 101       \n",
      "                                                                 \n",
      "=================================================================\n",
      "Total params: 40,901\n",
      "Trainable params: 40,901\n",
      "Non-trainable params: 0\n",
      "_________________________________________________________________\n"
     ]
    }
   ],
   "source": [
    "model_yen.compile(optimizer='adam', loss='mean_squared_error')\n",
    "model_yen.summary()"
   ]
  },
  {
   "cell_type": "code",
   "execution_count": 159,
   "metadata": {},
   "outputs": [
    {
     "name": "stdout",
     "output_type": "stream",
     "text": [
      "Epoch 1/25\n",
      "148/148 [==============================] - 37s 227ms/step - loss: 0.0465 - val_loss: 1.5753e-04\n",
      "Epoch 2/25\n",
      "148/148 [==============================] - 35s 239ms/step - loss: 0.0018 - val_loss: 1.2649e-04\n",
      "Epoch 3/25\n",
      "148/148 [==============================] - 32s 214ms/step - loss: 4.1709e-04 - val_loss: 1.1934e-04\n",
      "Epoch 4/25\n",
      "148/148 [==============================] - 36s 241ms/step - loss: 3.4120e-04 - val_loss: 1.0632e-04\n",
      "Epoch 5/25\n",
      "148/148 [==============================] - 30s 204ms/step - loss: 3.0626e-04 - val_loss: 1.0560e-04\n",
      "Epoch 6/25\n",
      "148/148 [==============================] - 30s 206ms/step - loss: 2.7373e-04 - val_loss: 8.7039e-05\n",
      "Epoch 7/25\n",
      "148/148 [==============================] - 34s 229ms/step - loss: 2.3960e-04 - val_loss: 8.5228e-05\n",
      "Epoch 8/25\n",
      "148/148 [==============================] - 30s 203ms/step - loss: 2.1899e-04 - val_loss: 7.7751e-05\n",
      "Epoch 9/25\n",
      "148/148 [==============================] - 31s 208ms/step - loss: 2.0070e-04 - val_loss: 7.7267e-05\n",
      "Epoch 10/25\n",
      "148/148 [==============================] - 28s 188ms/step - loss: 1.8957e-04 - val_loss: 6.9217e-05\n",
      "Epoch 11/25\n",
      "148/148 [==============================] - 33s 223ms/step - loss: 1.7383e-04 - val_loss: 6.6151e-05\n",
      "Epoch 12/25\n",
      "148/148 [==============================] - 32s 218ms/step - loss: 1.7518e-04 - val_loss: 8.1567e-05\n",
      "Epoch 13/25\n",
      "148/148 [==============================] - 32s 213ms/step - loss: 1.6094e-04 - val_loss: 6.5827e-05\n",
      "Epoch 14/25\n",
      "148/148 [==============================] - 30s 200ms/step - loss: 1.6113e-04 - val_loss: 6.7674e-05\n",
      "Epoch 15/25\n",
      "148/148 [==============================] - 28s 187ms/step - loss: 1.5575e-04 - val_loss: 6.8989e-05\n",
      "Epoch 16/25\n",
      "148/148 [==============================] - 31s 212ms/step - loss: 1.4731e-04 - val_loss: 8.4907e-05\n",
      "Epoch 17/25\n",
      "148/148 [==============================] - 32s 216ms/step - loss: 1.5053e-04 - val_loss: 6.1331e-05\n",
      "Epoch 18/25\n",
      "148/148 [==============================] - 32s 218ms/step - loss: 1.3860e-04 - val_loss: 6.3871e-05\n",
      "Epoch 19/25\n",
      "148/148 [==============================] - 32s 214ms/step - loss: 1.4233e-04 - val_loss: 5.3413e-05\n",
      "Epoch 20/25\n",
      "148/148 [==============================] - 27s 181ms/step - loss: 1.3845e-04 - val_loss: 5.3065e-05\n",
      "Epoch 21/25\n",
      "148/148 [==============================] - 31s 209ms/step - loss: 1.3670e-04 - val_loss: 5.1917e-05\n",
      "Epoch 22/25\n",
      "148/148 [==============================] - 30s 203ms/step - loss: 1.3227e-04 - val_loss: 5.1650e-05\n",
      "Epoch 23/25\n",
      "148/148 [==============================] - 33s 225ms/step - loss: 1.3551e-04 - val_loss: 5.9796e-05\n",
      "Epoch 24/25\n",
      "148/148 [==============================] - 28s 191ms/step - loss: 1.3107e-04 - val_loss: 5.4671e-05\n",
      "Epoch 25/25\n",
      "148/148 [==============================] - 28s 188ms/step - loss: 1.2942e-04 - val_loss: 7.8049e-05\n"
     ]
    },
    {
     "data": {
      "text/plain": [
       "<keras.callbacks.History at 0x2bc2317e610>"
      ]
     },
     "execution_count": 159,
     "metadata": {},
     "output_type": "execute_result"
    }
   ],
   "source": [
    "history_yen = model_yen.fit(x_train, y_train, epochs = 25, batch_size=32, validation_split=0.1)\n",
    "history_yen"
   ]
  },
  {
   "cell_type": "code",
   "execution_count": 160,
   "metadata": {},
   "outputs": [
    {
     "data": {
      "image/png": "[encoded data removed]",
      "text/plain": [
       "<Figure size 432x288 with 1 Axes>"
      ]
     },
     "metadata": {
      "needs_background": "light"
     },
     "output_type": "display_data"
    }
   ],
   "source": [
    "def graph_plots(history, string):\n",
    "  plt.plot(history.history[string])\n",
    "  plt.plot(history.history['val_'+string])\n",
    "  plt.xlabel(\"Epochs\")\n",
    "  plt.ylabel(string)\n",
    "  plt.legend([string, 'val_'+string])\n",
    "  plt.show()\n",
    "  \n",
    "graph_plots(history_yen, \"loss\")"
   ]
  },
  {
   "cell_type": "code",
   "execution_count": 161,
   "metadata": {},
   "outputs": [
    {
     "name": "stdout",
     "output_type": "stream",
     "text": [
      "8/8 [==============================] - 1s 86ms/step\n"
     ]
    }
   ],
   "source": [
    "actual_val_yen = test['Japanese_Yen'].values\n",
    "total_val_yen = pd.concat((train['Japanese_Yen'], test['Japanese_Yen']),axis=0)\n",
    "\n",
    "model_inputs_yen = total_val_yen[len(total_val_yen)-len(test)-prediction_days:].values\n",
    "model_inputs_yen = model_inputs_yen.reshape(-1,1)\n",
    "model_inputs_yen = scaler.transform(model_inputs_yen)\n",
    "\n",
    "\n",
    "# Make Predictions on Test Data\n",
    "x_test_yen = []\n",
    "\n",
    "for x in range(prediction_days, len(model_inputs_yen)):\n",
    "    x_test_yen.append(model_inputs_yen[x-prediction_days:x, 0])\n",
    "\n",
    "x_test_yen = np.array(x_test_yen)\n",
    "x_test_yen = np.reshape(x_test_yen, (x_test_yen.shape[0], x_test_yen.shape[1], 1))\n",
    "\n",
    "pred_yen = model_yen.predict(x_test_yen)\n",
    "pred_yen = scaler.inverse_transform(pred_yen)"
   ]
  },
  {
   "cell_type": "code",
   "execution_count": 162,
   "metadata": {},
   "outputs": [
    {
     "data": {
      "text/plain": [
       "0.2011477948483636"
      ]
     },
     "execution_count": 162,
     "metadata": {},
     "output_type": "execute_result"
    }
   ],
   "source": [
    "sklearn.metrics.mean_squared_error(test[\"Japanese_Yen\"], pred_yen)"
   ]
  },
  {
   "cell_type": "code",
   "execution_count": 163,
   "metadata": {},
   "outputs": [],
   "source": [
    "pred_final_yen=pred_yen.reshape(len(pred_yen),)"
   ]
  },
  {
   "cell_type": "code",
   "execution_count": 213,
   "metadata": {},
   "outputs": [
    {
     "data": {
      "image/png": "[encoded data removed]",
      "text/plain": [
       "<Figure size 432x288 with 1 Axes>"
      ]
     },
     "metadata": {
      "needs_background": "light"
     },
     "output_type": "display_data"
    }
   ],
   "source": [
    "plt.plot(np.array(test[\"Japanese_Yen\"]))\n",
    "plt.plot(pred_yen)\n",
    "plt.xlabel(\"Future time index\")\n",
    "plt.ylabel(\"Japanese Yen Value\")\n",
    "plt.legend([\"Actual\", \"Predicted\"])\n",
    "plt.savefig('plots/lstm4.png',dpi=300,bbox_4inces='tight')\n",
    "\n",
    "plt.show()"
   ]
  },
  {
   "cell_type": "code",
   "execution_count": 165,
   "metadata": {},
   "outputs": [
    {
     "data": {
      "text/html": [
       "<div>\n",
       "<style scoped>\n",
       "    .dataframe tbody tr th:only-of-type {\n",
       "        vertical-align: middle;\n",
       "    }\n",
       "\n",
       "    .dataframe tbody tr th {\n",
       "        vertical-align: top;\n",
       "    }\n",
       "\n",
       "    .dataframe thead th {\n",
       "        text-align: right;\n",
       "    }\n",
       "</style>\n",
       "<table border=\"1\" class=\"dataframe\">\n",
       "  <thead>\n",
       "    <tr style=\"text-align: right;\">\n",
       "      <th></th>\n",
       "      <th>level_0</th>\n",
       "      <th>index</th>\n",
       "      <th>Date</th>\n",
       "      <th>US_Dollar</th>\n",
       "      <th>Pound_Sterling</th>\n",
       "      <th>Euro</th>\n",
       "      <th>Japanese_Yen</th>\n",
       "    </tr>\n",
       "  </thead>\n",
       "  <tbody>\n",
       "    <tr>\n",
       "      <th>5482</th>\n",
       "      <td>224</td>\n",
       "      <td>5483</td>\n",
       "      <td>1999-10-12</td>\n",
       "      <td>43.48</td>\n",
       "      <td>70.6514</td>\n",
       "      <td>44.2968</td>\n",
       "      <td>42.4112</td>\n",
       "    </tr>\n",
       "    <tr>\n",
       "      <th>5483</th>\n",
       "      <td>223</td>\n",
       "      <td>5484</td>\n",
       "      <td>1999-09-12</td>\n",
       "      <td>43.46</td>\n",
       "      <td>70.7714</td>\n",
       "      <td>44.6449</td>\n",
       "      <td>42.1758</td>\n",
       "    </tr>\n",
       "    <tr>\n",
       "      <th>5484</th>\n",
       "      <td>222</td>\n",
       "      <td>5485</td>\n",
       "      <td>1999-08-12</td>\n",
       "      <td>43.48</td>\n",
       "      <td>70.7764</td>\n",
       "      <td>44.6828</td>\n",
       "      <td>42.3266</td>\n",
       "    </tr>\n",
       "    <tr>\n",
       "      <th>5485</th>\n",
       "      <td>221</td>\n",
       "      <td>5486</td>\n",
       "      <td>1999-07-12</td>\n",
       "      <td>43.44</td>\n",
       "      <td>70.4473</td>\n",
       "      <td>44.3912</td>\n",
       "      <td>42.1141</td>\n",
       "    </tr>\n",
       "    <tr>\n",
       "      <th>5486</th>\n",
       "      <td>220</td>\n",
       "      <td>5487</td>\n",
       "      <td>1999-06-12</td>\n",
       "      <td>43.42</td>\n",
       "      <td>69.5024</td>\n",
       "      <td>43.4575</td>\n",
       "      <td>42.5026</td>\n",
       "    </tr>\n",
       "    <tr>\n",
       "      <th>...</th>\n",
       "      <td>...</td>\n",
       "      <td>...</td>\n",
       "      <td>...</td>\n",
       "      <td>...</td>\n",
       "      <td>...</td>\n",
       "      <td>...</td>\n",
       "      <td>...</td>\n",
       "    </tr>\n",
       "    <tr>\n",
       "      <th>5702</th>\n",
       "      <td>4</td>\n",
       "      <td>5703</td>\n",
       "      <td>1999-08-01</td>\n",
       "      <td>42.52</td>\n",
       "      <td>70.0427</td>\n",
       "      <td>49.7265</td>\n",
       "      <td>38.0799</td>\n",
       "    </tr>\n",
       "    <tr>\n",
       "      <th>5703</th>\n",
       "      <td>3</td>\n",
       "      <td>5704</td>\n",
       "      <td>1999-07-01</td>\n",
       "      <td>42.52</td>\n",
       "      <td>70.3087</td>\n",
       "      <td>49.5148</td>\n",
       "      <td>38.0322</td>\n",
       "    </tr>\n",
       "    <tr>\n",
       "      <th>5704</th>\n",
       "      <td>2</td>\n",
       "      <td>5705</td>\n",
       "      <td>1999-06-01</td>\n",
       "      <td>42.51</td>\n",
       "      <td>70.3235</td>\n",
       "      <td>49.9276</td>\n",
       "      <td>37.7229</td>\n",
       "    </tr>\n",
       "    <tr>\n",
       "      <th>5705</th>\n",
       "      <td>1</td>\n",
       "      <td>5706</td>\n",
       "      <td>1999-05-01</td>\n",
       "      <td>42.56</td>\n",
       "      <td>70.4473</td>\n",
       "      <td>50.2412</td>\n",
       "      <td>38.2080</td>\n",
       "    </tr>\n",
       "    <tr>\n",
       "      <th>5706</th>\n",
       "      <td>0</td>\n",
       "      <td>5707</td>\n",
       "      <td>1999-04-01</td>\n",
       "      <td>42.51</td>\n",
       "      <td>70.7814</td>\n",
       "      <td>50.4872</td>\n",
       "      <td>37.4703</td>\n",
       "    </tr>\n",
       "  </tbody>\n",
       "</table>\n",
       "<p>225 rows × 7 columns</p>\n",
       "</div>"
      ],
      "text/plain": [
       "      level_0  index       Date  US_Dollar  Pound_Sterling     Euro  \\\n",
       "5482      224   5483 1999-10-12      43.48         70.6514  44.2968   \n",
       "5483      223   5484 1999-09-12      43.46         70.7714  44.6449   \n",
       "5484      222   5485 1999-08-12      43.48         70.7764  44.6828   \n",
       "5485      221   5486 1999-07-12      43.44         70.4473  44.3912   \n",
       "5486      220   5487 1999-06-12      43.42         69.5024  43.4575   \n",
       "...       ...    ...        ...        ...             ...      ...   \n",
       "5702        4   5703 1999-08-01      42.52         70.0427  49.7265   \n",
       "5703        3   5704 1999-07-01      42.52         70.3087  49.5148   \n",
       "5704        2   5705 1999-06-01      42.51         70.3235  49.9276   \n",
       "5705        1   5706 1999-05-01      42.56         70.4473  50.2412   \n",
       "5706        0   5707 1999-04-01      42.51         70.7814  50.4872   \n",
       "\n",
       "      Japanese_Yen  \n",
       "5482       42.4112  \n",
       "5483       42.1758  \n",
       "5484       42.3266  \n",
       "5485       42.1141  \n",
       "5486       42.5026  \n",
       "...            ...  \n",
       "5702       38.0799  \n",
       "5703       38.0322  \n",
       "5704       37.7229  \n",
       "5705       38.2080  \n",
       "5706       37.4703  \n",
       "\n",
       "[225 rows x 7 columns]"
      ]
     },
     "execution_count": 165,
     "metadata": {},
     "output_type": "execute_result"
    }
   ],
   "source": [
    "test"
   ]
  },
  {
   "cell_type": "code",
   "execution_count": 166,
   "metadata": {},
   "outputs": [
    {
     "data": {
      "text/plain": [
       "5482"
      ]
     },
     "execution_count": 166,
     "metadata": {},
     "output_type": "execute_result"
    }
   ],
   "source": [
    "len(scaled_data)"
   ]
  },
  {
   "cell_type": "code",
   "execution_count": 167,
   "metadata": {},
   "outputs": [
    {
     "data": {
      "text/plain": [
       "(225, 225, 1)"
      ]
     },
     "execution_count": 167,
     "metadata": {},
     "output_type": "execute_result"
    }
   ],
   "source": [
    "x_test_usd.shape"
   ]
  },
  {
   "cell_type": "code",
   "execution_count": 168,
   "metadata": {},
   "outputs": [
    {
     "data": {
      "text/plain": [
       "225"
      ]
     },
     "execution_count": 168,
     "metadata": {},
     "output_type": "execute_result"
    }
   ],
   "source": [
    "len(x_test_usd)"
   ]
  },
  {
   "cell_type": "code",
   "execution_count": 169,
   "metadata": {},
   "outputs": [
    {
     "data": {
      "text/plain": [
       "225"
      ]
     },
     "execution_count": 169,
     "metadata": {},
     "output_type": "execute_result"
    }
   ],
   "source": [
    "len(pred_usd)"
   ]
  },
  {
   "cell_type": "code",
   "execution_count": 170,
   "metadata": {},
   "outputs": [
    {
     "data": {
      "text/plain": [
       "array([0.90649973])"
      ]
     },
     "execution_count": 170,
     "metadata": {},
     "output_type": "execute_result"
    }
   ],
   "source": [
    "x_test_usd[0][0]"
   ]
  },
  {
   "cell_type": "code",
   "execution_count": 171,
   "metadata": {},
   "outputs": [
    {
     "data": {
      "text/plain": [
       "(225, 7)"
      ]
     },
     "execution_count": 171,
     "metadata": {},
     "output_type": "execute_result"
    }
   ],
   "source": [
    "test.shape"
   ]
  },
  {
   "cell_type": "code",
   "execution_count": 172,
   "metadata": {},
   "outputs": [
    {
     "data": {
      "text/plain": [
       "5707"
      ]
     },
     "execution_count": 172,
     "metadata": {},
     "output_type": "execute_result"
    }
   ],
   "source": [
    "len(total_val_yen)"
   ]
  },
  {
   "cell_type": "code",
   "execution_count": 173,
   "metadata": {},
   "outputs": [
    {
     "data": {
      "text/plain": [
       "(450, 1)"
      ]
     },
     "execution_count": 173,
     "metadata": {},
     "output_type": "execute_result"
    }
   ],
   "source": [
    "model_inputs_yen.shape"
   ]
  },
  {
   "cell_type": "code",
   "execution_count": 174,
   "metadata": {},
   "outputs": [
    {
     "data": {
      "text/plain": [
       "(225, 225, 1)"
      ]
     },
     "execution_count": 174,
     "metadata": {},
     "output_type": "execute_result"
    }
   ],
   "source": [
    "x_test_yen.shape"
   ]
  },
  {
   "cell_type": "code",
   "execution_count": 175,
   "metadata": {},
   "outputs": [
    {
     "data": {
      "text/plain": [
       "(5482, 7)"
      ]
     },
     "execution_count": 175,
     "metadata": {},
     "output_type": "execute_result"
    }
   ],
   "source": [
    "train.shape"
   ]
  },
  {
   "cell_type": "code",
   "execution_count": 176,
   "metadata": {},
   "outputs": [
    {
     "data": {
      "text/plain": [
       "(225, 225, 1)"
      ]
     },
     "execution_count": 176,
     "metadata": {},
     "output_type": "execute_result"
    }
   ],
   "source": [
    "x_test_euro.shape"
   ]
  },
  {
   "cell_type": "code",
   "execution_count": 177,
   "metadata": {},
   "outputs": [
    {
     "data": {
      "text/plain": [
       "5482    42.4112\n",
       "5483    42.1758\n",
       "5484    42.3266\n",
       "5485    42.1141\n",
       "5486    42.5026\n",
       "         ...   \n",
       "5702    38.0799\n",
       "5703    38.0322\n",
       "5704    37.7229\n",
       "5705    38.2080\n",
       "5706    37.4703\n",
       "Name: Japanese_Yen, Length: 225, dtype: float64"
      ]
     },
     "execution_count": 177,
     "metadata": {},
     "output_type": "execute_result"
    }
   ],
   "source": [
    "a=d[\"Japanese_Yen\"][-225:]\n",
    "a"
   ]
  },
  {
   "cell_type": "code",
   "execution_count": 178,
   "metadata": {
    "scrolled": false
   },
   "outputs": [],
   "source": [
    "a=a.values.reshape(-1,1)\n",
    "a=scaler.transform(a)\n",
    "x=[]\n",
    "x.append(a[0:225, 0])\n",
    "x = np.array(x)\n"
   ]
  },
  {
   "cell_type": "code",
   "execution_count": 179,
   "metadata": {},
   "outputs": [],
   "source": [
    "x = np.reshape(x, (x.shape[0], x.shape[1], 1))"
   ]
  },
  {
   "cell_type": "code",
   "execution_count": 180,
   "metadata": {
    "scrolled": true
   },
   "outputs": [
    {
     "data": {
      "text/plain": [
       "(1, 225, 1)"
      ]
     },
     "execution_count": 180,
     "metadata": {},
     "output_type": "execute_result"
    }
   ],
   "source": [
    "x.shape"
   ]
  },
  {
   "cell_type": "code",
   "execution_count": 181,
   "metadata": {},
   "outputs": [
    {
     "data": {
      "text/plain": [
       "array([[[0.24654324],\n",
       "        [0.24057317],\n",
       "        [0.24439767],\n",
       "        [0.23900837],\n",
       "        [0.24886127],\n",
       "        [0.24543495],\n",
       "        [0.24447882],\n",
       "        [0.24918083],\n",
       "        [0.24293178],\n",
       "        [0.23583819],\n",
       "        [0.2272635 ],\n",
       "        [0.22381689],\n",
       "        [0.22308395],\n",
       "        [0.20910474],\n",
       "        [0.21042354],\n",
       "        [0.21123256],\n",
       "        [0.21050723],\n",
       "        [0.21797616],\n",
       "        [0.22122749],\n",
       "        [0.22080649],\n",
       "        [0.21795841],\n",
       "        [0.20774537],\n",
       "        [0.22033223],\n",
       "        [0.22318793],\n",
       "        [0.23107025],\n",
       "        [0.22009891],\n",
       "        [0.22660411],\n",
       "        [0.21845042],\n",
       "        [0.22711134],\n",
       "        [0.22923409],\n",
       "        [0.2189754 ],\n",
       "        [0.21226985],\n",
       "        [0.21645194],\n",
       "        [0.20928988],\n",
       "        [0.20613746],\n",
       "        [0.21650774],\n",
       "        [0.20732184],\n",
       "        [0.19721532],\n",
       "        [0.20970327],\n",
       "        [0.20396906],\n",
       "        [0.19646716],\n",
       "        [0.19495308],\n",
       "        [0.19503424],\n",
       "        [0.20171189],\n",
       "        [0.20931524],\n",
       "        [0.21525995],\n",
       "        [0.21543241],\n",
       "        [0.21165864],\n",
       "        [0.21156987],\n",
       "        [0.22951306],\n",
       "        [0.22668019],\n",
       "        [0.23757291],\n",
       "        [0.22660157],\n",
       "        [0.20613746],\n",
       "        [0.19812833],\n",
       "        [0.20761856],\n",
       "        [0.2240629 ],\n",
       "        [0.21754248],\n",
       "        [0.21037535],\n",
       "        [0.18557951],\n",
       "        [0.18404261],\n",
       "        [0.16590921],\n",
       "        [0.1757824 ],\n",
       "        [0.17662186],\n",
       "        [0.18284301],\n",
       "        [0.18002283],\n",
       "        [0.1667512 ],\n",
       "        [0.1652701 ],\n",
       "        [0.1600634 ],\n",
       "        [0.16676642],\n",
       "        [0.16452194],\n",
       "        [0.15158255],\n",
       "        [0.1684352 ],\n",
       "        [0.15822217],\n",
       "        [0.15918336],\n",
       "        [0.13837433],\n",
       "        [0.1301192 ],\n",
       "        [0.12995181],\n",
       "        [0.1302105 ],\n",
       "        [0.12433173],\n",
       "        [0.13254628],\n",
       "        [0.13137712],\n",
       "        [0.12952574],\n",
       "        [0.13356328],\n",
       "        [0.13043114],\n",
       "        [0.1262034 ],\n",
       "        [0.12330459],\n",
       "        [0.13155212],\n",
       "        [0.1238879 ],\n",
       "        [0.12083693],\n",
       "        [0.11978443],\n",
       "        [0.11314228],\n",
       "        [0.11289881],\n",
       "        [0.10785189],\n",
       "        [0.09600812],\n",
       "        [0.09444839],\n",
       "        [0.09769465],\n",
       "        [0.0820137 ],\n",
       "        [0.07838448],\n",
       "        [0.08083693],\n",
       "        [0.07622876],\n",
       "        [0.068316  ],\n",
       "        [0.06933046],\n",
       "        [0.06876997],\n",
       "        [0.0693964 ],\n",
       "        [0.07026122],\n",
       "        [0.06994167],\n",
       "        [0.06733705],\n",
       "        [0.08040071],\n",
       "        [0.08198073],\n",
       "        [0.08035506],\n",
       "        [0.07716967],\n",
       "        [0.07874207],\n",
       "        [0.07600812],\n",
       "        [0.0718666 ],\n",
       "        [0.07006848],\n",
       "        [0.06954349],\n",
       "        [0.06964494],\n",
       "        [0.08750951],\n",
       "        [0.08274157],\n",
       "        [0.08055034],\n",
       "        [0.08075577],\n",
       "        [0.07793051],\n",
       "        [0.09013949],\n",
       "        [0.09598529],\n",
       "        [0.08630484],\n",
       "        [0.06993152],\n",
       "        [0.07327416],\n",
       "        [0.06651027],\n",
       "        [0.06545524],\n",
       "        [0.07509764],\n",
       "        [0.06855694],\n",
       "        [0.06622876],\n",
       "        [0.07618818],\n",
       "        [0.06019275],\n",
       "        [0.06127061],\n",
       "        [0.05270353],\n",
       "        [0.04528785],\n",
       "        [0.04609942],\n",
       "        [0.04041085],\n",
       "        [0.04686026],\n",
       "        [0.05374334],\n",
       "        [0.07347451],\n",
       "        [0.05936089],\n",
       "        [0.06438245],\n",
       "        [0.06893482],\n",
       "        [0.06808014],\n",
       "        [0.06877758],\n",
       "        [0.07005326],\n",
       "        [0.07067461],\n",
       "        [0.06690845],\n",
       "        [0.07266802],\n",
       "        [0.07801927],\n",
       "        [0.08210246],\n",
       "        [0.08313721],\n",
       "        [0.08697185],\n",
       "        [0.07777581],\n",
       "        [0.07357342],\n",
       "        [0.08344661],\n",
       "        [0.09022064],\n",
       "        [0.08979711],\n",
       "        [0.08875983],\n",
       "        [0.08438499],\n",
       "        [0.07074309],\n",
       "        [0.07026883],\n",
       "        [0.06665483],\n",
       "        [0.06652802],\n",
       "        [0.06521938],\n",
       "        [0.060842  ],\n",
       "        [0.05763632],\n",
       "        [0.06685265],\n",
       "        [0.06681461],\n",
       "        [0.07646969],\n",
       "        [0.08520923],\n",
       "        [0.07854679],\n",
       "        [0.08541973],\n",
       "        [0.08766929],\n",
       "        [0.07705554],\n",
       "        [0.08499112],\n",
       "        [0.08014202],\n",
       "        [0.06917068],\n",
       "        [0.0698174 ],\n",
       "        [0.05889424],\n",
       "        [0.05959422],\n",
       "        [0.05558965],\n",
       "        [0.04936343],\n",
       "        [0.05309916],\n",
       "        [0.06178037],\n",
       "        [0.07482374],\n",
       "        [0.05862034],\n",
       "        [0.06527517],\n",
       "        [0.0519858 ],\n",
       "        [0.06825767],\n",
       "        [0.0790667 ],\n",
       "        [0.08377378],\n",
       "        [0.09353792],\n",
       "        [0.11244484],\n",
       "        [0.11258686],\n",
       "        [0.11388283],\n",
       "        [0.10477302],\n",
       "        [0.11220391],\n",
       "        [0.1198808 ],\n",
       "        [0.13356328],\n",
       "        [0.11782146],\n",
       "        [0.12959675],\n",
       "        [0.11962972],\n",
       "        [0.10292924],\n",
       "        [0.09972356],\n",
       "        [0.1033401 ],\n",
       "        [0.11932285],\n",
       "        [0.11292924],\n",
       "        [0.11826782],\n",
       "        [0.12354045],\n",
       "        [0.11118691],\n",
       "        [0.11775044],\n",
       "        [0.12775298],\n",
       "        [0.12405022],\n",
       "        [0.13210753],\n",
       "        [0.13863302],\n",
       "        [0.14440781],\n",
       "        [0.13669541],\n",
       "        [0.13548567],\n",
       "        [0.12764139],\n",
       "        [0.1399442 ],\n",
       "        [0.1212351 ]]])"
      ]
     },
     "execution_count": 181,
     "metadata": {},
     "output_type": "execute_result"
    }
   ],
   "source": [
    "x"
   ]
  },
  {
   "cell_type": "code",
   "execution_count": 182,
   "metadata": {},
   "outputs": [
    {
     "data": {
      "text/plain": [
       "array([[[0.27263505],\n",
       "        [0.27517119],\n",
       "        [0.27593203],\n",
       "        ...,\n",
       "        [0.23680954],\n",
       "        [0.24233578],\n",
       "        [0.246386  ]],\n",
       "\n",
       "       [[0.27517119],\n",
       "        [0.27593203],\n",
       "        [0.27314228],\n",
       "        ...,\n",
       "        [0.24233578],\n",
       "        [0.246386  ],\n",
       "        [0.24654324]],\n",
       "\n",
       "       [[0.27593203],\n",
       "        [0.27314228],\n",
       "        [0.27364951],\n",
       "        ...,\n",
       "        [0.246386  ],\n",
       "        [0.24654324],\n",
       "        [0.24057317]],\n",
       "\n",
       "       ...,\n",
       "\n",
       "       [[0.23680954],\n",
       "        [0.24233578],\n",
       "        [0.246386  ],\n",
       "        ...,\n",
       "        [0.14440781],\n",
       "        [0.13669541],\n",
       "        [0.13548567]],\n",
       "\n",
       "       [[0.24233578],\n",
       "        [0.246386  ],\n",
       "        [0.24654324],\n",
       "        ...,\n",
       "        [0.13669541],\n",
       "        [0.13548567],\n",
       "        [0.12764139]],\n",
       "\n",
       "       [[0.246386  ],\n",
       "        [0.24654324],\n",
       "        [0.24057317],\n",
       "        ...,\n",
       "        [0.13548567],\n",
       "        [0.12764139],\n",
       "        [0.1399442 ]]])"
      ]
     },
     "execution_count": 182,
     "metadata": {},
     "output_type": "execute_result"
    }
   ],
   "source": [
    "x_test_yen"
   ]
  },
  {
   "cell_type": "code",
   "execution_count": 183,
   "metadata": {},
   "outputs": [
    {
     "name": "stdout",
     "output_type": "stream",
     "text": [
      "1/1 [==============================] - 0s 71ms/step\n"
     ]
    },
    {
     "data": {
      "text/plain": [
       "array([[37.986298]], dtype=float32)"
      ]
     },
     "execution_count": 183,
     "metadata": {},
     "output_type": "execute_result"
    }
   ],
   "source": [
    "scaler.inverse_transform(model_yen.predict(x))"
   ]
  },
  {
   "cell_type": "code",
   "execution_count": 184,
   "metadata": {},
   "outputs": [
    {
     "data": {
      "text/plain": [
       "array([[42.47933 ],\n",
       "       [42.55859 ],\n",
       "       [42.44927 ],\n",
       "       [42.475193],\n",
       "       [42.36641 ],\n",
       "       [42.541428],\n",
       "       [42.557568],\n",
       "       [42.53258 ],\n",
       "       [42.62695 ],\n",
       "       [42.527702],\n",
       "       [42.302925],\n",
       "       [41.99245 ],\n",
       "       [41.771774],\n",
       "       [41.672276],\n",
       "       [41.321754],\n",
       "       [41.194294],\n",
       "       [41.185043],\n",
       "       [41.187027],\n",
       "       [41.374382],\n",
       "       [41.55094 ],\n",
       "       [41.619595],\n",
       "       [41.57176 ],\n",
       "       [41.29738 ],\n",
       "       [41.447712],\n",
       "       [41.60873 ],\n",
       "       [41.868042],\n",
       "       [41.732323],\n",
       "       [41.790375],\n",
       "       [41.631382],\n",
       "       [41.744522],\n",
       "       [41.86097 ],\n",
       "       [41.675774],\n",
       "       [41.415142],\n",
       "       [41.388927],\n",
       "       [41.230778],\n",
       "       [41.086166],\n",
       "       [41.270374],\n",
       "       [41.169315],\n",
       "       [40.877014],\n",
       "       [41.023884],\n",
       "       [40.990124],\n",
       "       [40.796116],\n",
       "       [40.664906],\n",
       "       [40.614704],\n",
       "       [40.757996],\n",
       "       [41.016994],\n",
       "       [41.281025],\n",
       "       [41.40062 ],\n",
       "       [41.34854 ],\n",
       "       [41.299576],\n",
       "       [41.682503],\n",
       "       [41.81292 ],\n",
       "       [42.102375],\n",
       "       [41.97857 ],\n",
       "       [41.412323],\n",
       "       [40.931553],\n",
       "       [40.94013 ],\n",
       "       [41.372295],\n",
       "       [41.46154 ],\n",
       "       [41.322353],\n",
       "       [40.668987],\n",
       "       [40.29954 ],\n",
       "       [39.735073],\n",
       "       [39.713898],\n",
       "       [39.78359 ],\n",
       "       [39.990273],\n",
       "       [40.042683],\n",
       "       [39.756065],\n",
       "       [39.566788],\n",
       "       [39.36536 ],\n",
       "       [39.43253 ],\n",
       "       [39.438057],\n",
       "       [39.147163],\n",
       "       [39.383053],\n",
       "       [39.29556 ],\n",
       "       [39.261547],\n",
       "       [38.772568],\n",
       "       [38.325592],\n",
       "       [38.117413],\n",
       "       [38.054405],\n",
       "       [37.918606],\n",
       "       [38.050903],\n",
       "       [38.114693],\n",
       "       [38.10634 ],\n",
       "       [38.189713],\n",
       "       [38.16343 ],\n",
       "       [38.047348],\n",
       "       [37.918114],\n",
       "       [38.038845],\n",
       "       [37.943325],\n",
       "       [37.818726],\n",
       "       [37.732994],\n",
       "       [37.548176],\n",
       "       [37.45091 ],\n",
       "       [37.30197 ],\n",
       "       [36.970997],\n",
       "       [36.770607],\n",
       "       [36.761242],\n",
       "       [36.43491 ],\n",
       "       [36.187824],\n",
       "       [36.133205],\n",
       "       [36.02868 ],\n",
       "       [35.813564],\n",
       "       [35.731358],\n",
       "       [35.69385 ],\n",
       "       [35.700077],\n",
       "       [35.731106],\n",
       "       [35.7454  ],\n",
       "       [35.697376],\n",
       "       [35.951   ],\n",
       "       [36.128532],\n",
       "       [36.177616],\n",
       "       [36.12039 ],\n",
       "       [36.111282],\n",
       "       [36.045074],\n",
       "       [35.917496],\n",
       "       [35.810143],\n",
       "       [35.746964],\n",
       "       [35.723316],\n",
       "       [36.099724],\n",
       "       [36.21445 ],\n",
       "       [36.212547],\n",
       "       [36.20218 ],\n",
       "       [36.129147],\n",
       "       [36.344624],\n",
       "       [36.592403],\n",
       "       [36.512806],\n",
       "       [36.099377],\n",
       "       [35.933674],\n",
       "       [35.71782 ],\n",
       "       [35.591022],\n",
       "       [35.74672 ],\n",
       "       [35.71262 ],\n",
       "       [35.643517],\n",
       "       [35.820595],\n",
       "       [35.585827],\n",
       "       [35.467827],\n",
       "       [35.23068 ],\n",
       "       [34.948513],\n",
       "       [34.822803],\n",
       "       [34.65592 ],\n",
       "       [34.71521 ],\n",
       "       [34.913982],\n",
       "       [35.45023 ],\n",
       "       [35.452114],\n",
       "       [35.52724 ],\n",
       "       [35.653862],\n",
       "       [35.69516 ],\n",
       "       [35.718822],\n",
       "       [35.749268],\n",
       "       [35.77256 ],\n",
       "       [35.70059 ],\n",
       "       [35.7765  ],\n",
       "       [35.934216],\n",
       "       [36.105476],\n",
       "       [36.21351 ],\n",
       "       [36.341267],\n",
       "       [36.206196],\n",
       "       [36.026676],\n",
       "       [36.13539 ],\n",
       "       [36.350273],\n",
       "       [36.459824],\n",
       "       [36.487255],\n",
       "       [36.39837 ],\n",
       "       [36.05109 ],\n",
       "       [35.84637 ],\n",
       "       [35.67459 ],\n",
       "       [35.59505 ],\n",
       "       [35.542343],\n",
       "       [35.434223],\n",
       "       [35.315567],\n",
       "       [35.455738],\n",
       "       [35.547554],\n",
       "       [35.802685],\n",
       "       [36.127476],\n",
       "       [36.151863],\n",
       "       [36.285305],\n",
       "       [36.395096],\n",
       "       [36.216007],\n",
       "       [36.269226],\n",
       "       [36.199833],\n",
       "       [35.92452 ],\n",
       "       [35.785934],\n",
       "       [35.49345 ],\n",
       "       [35.358234],\n",
       "       [35.22153 ],\n",
       "       [35.03041 ],\n",
       "       [35.01779 ],\n",
       "       [35.214626],\n",
       "       [35.61403 ],\n",
       "       [35.49298 ],\n",
       "       [35.540943],\n",
       "       [35.285892],\n",
       "       [35.477264],\n",
       "       [35.82694 ],\n",
       "       [36.11697 ],\n",
       "       [36.46539 ],\n",
       "       [37.037884],\n",
       "       [37.332188],\n",
       "       [37.476288],\n",
       "       [37.323597],\n",
       "       [37.365948],\n",
       "       [37.54813 ],\n",
       "       [37.936924],\n",
       "       [37.80288 ],\n",
       "       [37.95086 ],\n",
       "       [37.815247],\n",
       "       [37.365513],\n",
       "       [37.046448],\n",
       "       [36.974495],\n",
       "       [37.312904],\n",
       "       [37.38202 ],\n",
       "       [37.525715],\n",
       "       [37.714794],\n",
       "       [37.53925 ],\n",
       "       [37.567127],\n",
       "       [37.80494 ],\n",
       "       [37.854095],\n",
       "       [38.041817],\n",
       "       [38.280197],\n",
       "       [38.52252 ],\n",
       "       [38.465412],\n",
       "       [38.382343],\n",
       "       [38.15684 ],\n",
       "       [38.30322 ]], dtype=float32)"
      ]
     },
     "execution_count": 184,
     "metadata": {},
     "output_type": "execute_result"
    }
   ],
   "source": [
    "pred_yen"
   ]
  },
  {
   "cell_type": "code",
   "execution_count": null,
   "metadata": {},
   "outputs": [],
   "source": []
  },
  {
   "cell_type": "code",
   "execution_count": null,
   "metadata": {},
   "outputs": [],
   "source": []
  },
  {
   "cell_type": "code",
   "execution_count": null,
   "metadata": {},
   "outputs": [],
   "source": []
  },
  {
   "cell_type": "code",
   "execution_count": null,
   "metadata": {},
   "outputs": [],
   "source": []
  }
 ],
 "metadata": {
  "kernelspec": {
   "display_name": "Python 3",
   "language": "python",
   "name": "python3"
  },
  "language_info": {
   "codemirror_mode": {
    "name": "ipython",
    "version": 3
   },
   "file_extension": ".py",
   "mimetype": "text/x-python",
   "name": "python",
   "nbconvert_exporter": "python",
   "pygments_lexer": "ipython3",
   "version": "3.8.3"
  }
 },
 "nbformat": 4,
 "nbformat_minor": 5
}
